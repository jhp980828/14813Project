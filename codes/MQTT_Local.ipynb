{
 "cells": [
  {
   "cell_type": "markdown",
   "id": "182eb08d",
   "metadata": {},
   "source": [
    "# ML-based Prediction of Cyber Attacks using MQTT Dataset"
   ]
  },
  {
   "cell_type": "markdown",
   "id": "9e9e681b",
   "metadata": {},
   "source": [
    "### Libraries and Initialization"
   ]
  },
  {
   "cell_type": "code",
   "execution_count": 1,
   "id": "0218a590",
   "metadata": {},
   "outputs": [
    {
     "name": "stderr",
     "output_type": "stream",
     "text": [
      "C:\\Spark\\spark-3.2.2-bin-hadoop2.7\\python\\pyspark\\sql\\context.py:77: FutureWarning: Deprecated in 3.0.0. Use SparkSession.builder.getOrCreate() instead.\n",
      "  warnings.warn(\n"
     ]
    },
    {
     "data": {
      "text/html": [
       "\n",
       "            <div>\n",
       "                <p><b>SparkSession - in-memory</b></p>\n",
       "                \n",
       "        <div>\n",
       "            <p><b>SparkContext</b></p>\n",
       "\n",
       "            <p><a href=\"http://host.docker.internal:4040\">Spark UI</a></p>\n",
       "\n",
       "            <dl>\n",
       "              <dt>Version</dt>\n",
       "                <dd><code>v3.2.2</code></dd>\n",
       "              <dt>Master</dt>\n",
       "                <dd><code>local[*]</code></dd>\n",
       "              <dt>AppName</dt>\n",
       "                <dd><code>GenericAppName</code></dd>\n",
       "            </dl>\n",
       "        </div>\n",
       "        \n",
       "            </div>\n",
       "        "
      ],
      "text/plain": [
       "<pyspark.sql.session.SparkSession at 0x1f1bf1aa580>"
      ]
     },
     "execution_count": 1,
     "metadata": {},
     "output_type": "execute_result"
    }
   ],
   "source": [
    "import os\n",
    "import sys\n",
    "os.environ['PYSPARK_PYTHON'] = sys.executable\n",
    "os.environ['PYSPARK_DRIVER_PYTHON'] = sys.executable\n",
    "\n",
    "\n",
    "import findspark\n",
    "findspark.init()\n",
    "findspark.find()\n",
    "\n",
    "import pyspark\n",
    "from pyspark.sql import SparkSession, SQLContext\n",
    "from pyspark.ml import Pipeline,Transformer\n",
    "from pyspark.ml.feature import Imputer,StandardScaler,StringIndexer,OneHotEncoder, VectorAssembler\n",
    "\n",
    "from pyspark.sql.functions import *\n",
    "from pyspark.sql.types import *\n",
    "\n",
    "from pyspark.ml.classification import LogisticRegression\n",
    "from pyspark.ml.tuning import ParamGridBuilder, CrossValidator\n",
    "from pyspark.ml.evaluation import MulticlassClassificationEvaluator, BinaryClassificationEvaluator\n",
    "\n",
    "import numpy as np\n",
    "from matplotlib import pyplot as plt\n",
    "\n",
    "\n",
    "spark = SparkSession.builder \\\n",
    "    .master(\"local[*]\") \\\n",
    "    .appName(\"GenericAppName\") \\\n",
    "    .getOrCreate()\n",
    "\n",
    "sc = SparkContext.getOrCreate()\n",
    "sqlContext = SQLContext(sc)\n",
    "\n",
    "spark"
   ]
  },
  {
   "cell_type": "markdown",
   "id": "4242c60a",
   "metadata": {},
   "source": [
    "# Task I"
   ]
  },
  {
   "cell_type": "markdown",
   "id": "282f195d",
   "metadata": {},
   "source": [
    "#### Original Dataset"
   ]
  },
  {
   "cell_type": "code",
   "execution_count": 3,
   "id": "33be5493",
   "metadata": {},
   "outputs": [
    {
     "data": {
      "text/plain": [
       "20000000"
      ]
     },
     "execution_count": 3,
     "metadata": {},
     "output_type": "execute_result"
    }
   ],
   "source": [
    "train_path = \"./mqtt_data/train70_augmented.csv\"\n",
    "test_path = \"./mqtt_data/test30_augmented.csv\"\n",
    "\n",
    "# for GCP\n",
    "#train_path = \"gs://dataproc-staging-us-east5-759808834804-ifoixyen/mqtt_data/train70_augmented.csv\"\n",
    "#test_path = \"gs://dataproc-staging-us-east5-759808834804-ifoixyen/mqtt_data/test30_augmented.csv\"\n",
    "\n",
    "# Adding binary Train_or_Test column\n",
    "#Train == 0 , Test == 1\n",
    "df0 = spark.read.csv(train_path, header='true').withColumn(\"Train_or_Test\", lit(0))\n",
    "df1 = spark.read.csv(test_path, header='true').withColumn(\"Train_or_Test\", lit(1))\n",
    "\n",
    "# Merged dataset with 20,000,000 rows\n",
    "DF = df0.union(df1)\n",
    "DF.count()"
   ]
  },
  {
   "cell_type": "code",
   "execution_count": 11,
   "id": "3a823f5d",
   "metadata": {},
   "outputs": [
    {
     "name": "stdout",
     "output_type": "stream",
     "text": [
      "root\n",
      " |-- tcp.flags: string (nullable = true)\n",
      " |-- tcp.time_delta: string (nullable = true)\n",
      " |-- tcp.len: string (nullable = true)\n",
      " |-- mqtt.conack.flags: string (nullable = true)\n",
      " |-- mqtt.conack.flags.reserved: string (nullable = true)\n",
      " |-- mqtt.conack.flags.sp: string (nullable = true)\n",
      " |-- mqtt.conack.val: string (nullable = true)\n",
      " |-- mqtt.conflag.cleansess: string (nullable = true)\n",
      " |-- mqtt.conflag.passwd: string (nullable = true)\n",
      " |-- mqtt.conflag.qos: string (nullable = true)\n",
      " |-- mqtt.conflag.reserved: string (nullable = true)\n",
      " |-- mqtt.conflag.retain: string (nullable = true)\n",
      " |-- mqtt.conflag.uname: string (nullable = true)\n",
      " |-- mqtt.conflag.willflag: string (nullable = true)\n",
      " |-- mqtt.conflags: string (nullable = true)\n",
      " |-- mqtt.dupflag: string (nullable = true)\n",
      " |-- mqtt.hdrflags: string (nullable = true)\n",
      " |-- mqtt.kalive: string (nullable = true)\n",
      " |-- mqtt.len: string (nullable = true)\n",
      " |-- mqtt.msg: string (nullable = true)\n",
      " |-- mqtt.msgid: string (nullable = true)\n",
      " |-- mqtt.msgtype: string (nullable = true)\n",
      " |-- mqtt.proto_len: string (nullable = true)\n",
      " |-- mqtt.protoname: string (nullable = true)\n",
      " |-- mqtt.qos: string (nullable = true)\n",
      " |-- mqtt.retain: string (nullable = true)\n",
      " |-- mqtt.sub.qos: string (nullable = true)\n",
      " |-- mqtt.suback.qos: string (nullable = true)\n",
      " |-- mqtt.ver: string (nullable = true)\n",
      " |-- mqtt.willmsg: string (nullable = true)\n",
      " |-- mqtt.willmsg_len: string (nullable = true)\n",
      " |-- mqtt.willtopic: string (nullable = true)\n",
      " |-- mqtt.willtopic_len: string (nullable = true)\n",
      " |-- target: string (nullable = true)\n",
      " |-- Train_or_Test: integer (nullable = false)\n",
      "\n"
     ]
    }
   ],
   "source": [
    "DF.printSchema()"
   ]
  },
  {
   "cell_type": "code",
   "execution_count": 4,
   "id": "db5eaa6c",
   "metadata": {},
   "outputs": [
    {
     "name": "stdout",
     "output_type": "stream",
     "text": [
      "Length of the original data sets\n",
      "Train set length: 14000000\n",
      "Test set length: 6000000\n"
     ]
    }
   ],
   "source": [
    "train_length = DF.where(DF[\"Train_or_Test\"]==0).count()\n",
    "test_length = DF.where(DF[\"Train_or_Test\"]==1).count()\n",
    "\n",
    "print (\"Length of the original data sets\")\n",
    "print (f\"Train set length: {train_length}\")\n",
    "print (f\"Test set length: {test_length}\")"
   ]
  },
  {
   "cell_type": "markdown",
   "id": "411bdf75",
   "metadata": {},
   "source": [
    "#### Reduced Dataset\n",
    "\n",
    "    Reduced subsets were created from the original dataset (5% random sampling). \n",
    "\n",
    "    Only the reduced dataset (~1 million rows) was ingested to Postgres since reading the original dataset (20 million rows) from\n",
    "    the Postgres DB prompted out-of-memory error. The sampling rate of 5% was chosen so that the model training codes are executed \n",
    "    within tolerable runtimes, without any out-of-memory error.\n",
    "\n"
   ]
  },
  {
   "cell_type": "code",
   "execution_count": 5,
   "id": "ac9c9b80",
   "metadata": {},
   "outputs": [
    {
     "name": "stdout",
     "output_type": "stream",
     "text": [
      "Length of the reduced data sets\n",
      "Train set length: 699669\n",
      "Test set length: 300094\n",
      "Total: 999763\n"
     ]
    }
   ],
   "source": [
    "# 5% of train and test set to prevent OOM\n",
    "reduced_train = df0.sample(0.05, seed=100)\n",
    "reduced_test = df1.sample(0.05, seed=100)\n",
    "reduced_df = reduced_train.union(reduced_test)\n",
    "\n",
    "reduced_train_len = reduced_train.where(reduced_train[\"Train_or_Test\"]==0).count()\n",
    "reduced_test_len = reduced_test.where(reduced_test[\"Train_or_Test\"]==1).count()\n",
    "\n",
    "print (\"Length of the reduced data sets\")\n",
    "print (f\"Train set length: {reduced_train_len}\")\n",
    "print (f\"Test set length: {reduced_test_len}\")\n",
    "print (f\"Total: {reduced_df.count()}\")"
   ]
  },
  {
   "cell_type": "markdown",
   "id": "ced82299",
   "metadata": {},
   "source": [
    "#### Postgres"
   ]
  },
  {
   "cell_type": "code",
   "execution_count": 7,
   "id": "e16175dc",
   "metadata": {},
   "outputs": [],
   "source": [
    "df = reduced_df\n",
    "\n",
    "db_properties={}\n",
    "db_properties['url']= \"jdbc:postgresql://localhost:5432/postgres\"\n",
    "db_properties['table']= \"reduced_mqtt\"\n",
    "db_properties['username']=\"postgres\"\n",
    "db_properties['password']=\"$M8f5w2~\"\n",
    "db_properties['driver']=\"org.postgresql.Driver\"\n",
    "\n",
    "def ingest_df (df):\n",
    "    # Ingestion to postgres\n",
    "    df.write.format(\"jdbc\")\\\n",
    "        .mode(\"overwrite\")\\\n",
    "        .option(\"url\", db_properties['url'])\\\n",
    "        .option(\"dbtable\", db_properties['table'])\\\n",
    "        .option(\"user\", db_properties['username'])\\\n",
    "        .option(\"password\", db_properties['password'])\\\n",
    "        .option(\"Driver\", db_properties['driver'])\\\n",
    "        .save()\n",
    "    \n",
    "    print (\"--- DataFrame ingested to Postgres.\")\n",
    "    \n",
    "# Ingestion\n",
    "ingest_df (reduced_df)"
   ]
  },
  {
   "cell_type": "code",
   "execution_count": 8,
   "id": "30f2ca29",
   "metadata": {},
   "outputs": [],
   "source": [
    "# Read from postgres\n",
    "df_read = sqlContext.read.format(\"jdbc\")\\\n",
    "    .option(\"url\", db_properties['url'])\\\n",
    "    .option(\"dbtable\", db_properties['table'])\\\n",
    "    .option(\"user\", db_properties['username'])\\\n",
    "    .option(\"password\", db_properties['password'])\\\n",
    "    .option(\"Driver\", db_properties['driver'])\\\n",
    "    .load()"
   ]
  },
  {
   "cell_type": "markdown",
   "id": "a8ef9c04",
   "metadata": {},
   "source": [
    "# Task II"
   ]
  },
  {
   "cell_type": "code",
   "execution_count": 10,
   "id": "df636911",
   "metadata": {},
   "outputs": [],
   "source": [
    "# renaming df for convenience\n",
    "df = df_read"
   ]
  },
  {
   "cell_type": "markdown",
   "id": "a23bf62c",
   "metadata": {},
   "source": [
    "#### Renaming columns"
   ]
  },
  {
   "cell_type": "markdown",
   "id": "687314e9",
   "metadata": {},
   "source": [
    "The original column names contain periods ($\".\"$) and this often leads to error and confusion because period is generally used to access modules in Python. Thus, all periods in the column names were replaced with underscores ($\"\\_\"$)."
   ]
  },
  {
   "cell_type": "code",
   "execution_count": 12,
   "id": "94c3197a",
   "metadata": {
    "scrolled": false
   },
   "outputs": [
    {
     "name": "stdout",
     "output_type": "stream",
     "text": [
      "root\n",
      " |-- tcp_flags: string (nullable = true)\n",
      " |-- tcp_time_delta: string (nullable = true)\n",
      " |-- tcp_len: string (nullable = true)\n",
      " |-- mqtt_conack_flags: string (nullable = true)\n",
      " |-- mqtt_conack_flags_reserved: string (nullable = true)\n",
      " |-- mqtt_conack_flags_sp: string (nullable = true)\n",
      " |-- mqtt_conack_val: string (nullable = true)\n",
      " |-- mqtt_conflag_cleansess: string (nullable = true)\n",
      " |-- mqtt_conflag_passwd: string (nullable = true)\n",
      " |-- mqtt_conflag_qos: string (nullable = true)\n",
      " |-- mqtt_conflag_reserved: string (nullable = true)\n",
      " |-- mqtt_conflag_retain: string (nullable = true)\n",
      " |-- mqtt_conflag_uname: string (nullable = true)\n",
      " |-- mqtt_conflag_willflag: string (nullable = true)\n",
      " |-- mqtt_conflags: string (nullable = true)\n",
      " |-- mqtt_dupflag: string (nullable = true)\n",
      " |-- mqtt_hdrflags: string (nullable = true)\n",
      " |-- mqtt_kalive: string (nullable = true)\n",
      " |-- mqtt_len: string (nullable = true)\n",
      " |-- mqtt_msg: string (nullable = true)\n",
      " |-- mqtt_msgid: string (nullable = true)\n",
      " |-- mqtt_msgtype: string (nullable = true)\n",
      " |-- mqtt_proto_len: string (nullable = true)\n",
      " |-- mqtt_protoname: string (nullable = true)\n",
      " |-- mqtt_qos: string (nullable = true)\n",
      " |-- mqtt_retain: string (nullable = true)\n",
      " |-- mqtt_sub_qos: string (nullable = true)\n",
      " |-- mqtt_suback_qos: string (nullable = true)\n",
      " |-- mqtt_ver: string (nullable = true)\n",
      " |-- mqtt_willmsg: string (nullable = true)\n",
      " |-- mqtt_willmsg_len: string (nullable = true)\n",
      " |-- mqtt_willtopic: string (nullable = true)\n",
      " |-- mqtt_willtopic_len: string (nullable = true)\n",
      " |-- target: string (nullable = true)\n",
      " |-- Train_or_Test: integer (nullable = true)\n",
      "\n"
     ]
    }
   ],
   "source": [
    "column_names = df.columns\n",
    "\n",
    "new_column_names = []\n",
    "for column in column_names:\n",
    "    underscore = column.replace (\".\", \"_\")\n",
    "    new_column_names.append (underscore)\n",
    "    \n",
    "# Column Rename\n",
    "for i,j in zip(column_names, new_column_names):\n",
    "    df = df.withColumnRenamed(i, j)\n",
    "    \n",
    "df.printSchema()"
   ]
  },
  {
   "cell_type": "markdown",
   "id": "98563345",
   "metadata": {},
   "source": [
    "#### Average MQTT length in trainset"
   ]
  },
  {
   "cell_type": "code",
   "execution_count": 14,
   "id": "856f05fc",
   "metadata": {},
   "outputs": [
    {
     "name": "stdout",
     "output_type": "stream",
     "text": [
      "Avg MQTT length for the trainset: 12.3\n",
      "+-------------+-----------------+\n",
      "|Train_or_Test|     avg_mqtt_len|\n",
      "+-------------+-----------------+\n",
      "|            0|12.32957584229114|\n",
      "+-------------+-----------------+\n",
      "\n"
     ]
    }
   ],
   "source": [
    "# Train/Test split\n",
    "df0 = df.where (df[\"Train_or_Test\"]==0)\n",
    "df1 = df.where (df[\"Train_or_Test\"]==1)\n",
    "\n",
    "\n",
    "def avg_mqtt_len (DataFrame, return_df = True):\n",
    "    \"\"\"Input is a MQTT dataset in a Spark dataframe with renamed columns.\n",
    "    Returns an average of MQTT message length (float) for the input dataframe.\"\"\"\n",
    "    \n",
    "    avg_mqtt_df = DataFrame.groupBy(\"Train_or_Test\") \\\n",
    "                            .agg(avg(\"mqtt_len\").alias(\"avg_mqtt_len\")) \\\n",
    "    \n",
    "    avglen = avg_mqtt_df.select (\"avg_mqtt_len\").collect()[0][0]\n",
    "    \n",
    "    if return_df:\n",
    "        return float (avglen), avg_mqtt_df\n",
    "    else:\n",
    "        return float (avglen)\n",
    "\n",
    "\n",
    "# using the function on trainset\n",
    "avg_mqtt0, avg_mqtt0_df = avg_mqtt_len(df0)\n",
    "print (f\"Avg MQTT length for the trainset: {avg_mqtt0:1.1f}\")\n",
    "avg_mqtt0_df.show ()"
   ]
  },
  {
   "cell_type": "markdown",
   "id": "8770d80c",
   "metadata": {},
   "source": [
    "#### TCP length for each target"
   ]
  },
  {
   "cell_type": "code",
   "execution_count": 16,
   "id": "c6538b12",
   "metadata": {},
   "outputs": [
    {
     "name": "stdout",
     "output_type": "stream",
     "text": [
      "- Average TCP Length for each target\n",
      "SLOWITE: 3.7\n",
      "BRUTEFORCE: 3.3\n",
      "FLOOD: 13591.1\n",
      "MALFORMED: 21.3\n",
      "DOS: 313.5\n",
      "LEGITIMATE: 7.8\n",
      "+----------+------------------+\n",
      "|    target|       avg_tcp_len|\n",
      "+----------+------------------+\n",
      "|   slowite| 3.741847864934025|\n",
      "|bruteforce|3.2720145956270135|\n",
      "|     flood|13591.103289539522|\n",
      "| malformed|  21.3200984696889|\n",
      "|       dos| 313.5163415616549|\n",
      "|legitimate| 7.777778411553994|\n",
      "+----------+------------------+\n",
      "\n"
     ]
    }
   ],
   "source": [
    "def avg_tcp_len (DataFrame, return_df = True):\n",
    "    avg_tcp_df = DataFrame.groupBy(\"target\").agg(avg(\"tcp_len\").alias(\"avg_tcp_len\"))\n",
    "    \n",
    "    avg_tcp_list = [avg_tcp_df.select (\"avg_tcp_len\").collect()[i][0] for i in range(avg_tcp_df.count())]\n",
    "    \n",
    "    if return_df:\n",
    "        return avg_tcp_list, avg_tcp_df\n",
    "    else:\n",
    "        return avg_tcp_list\n",
    "\n",
    "# on the train dataset\n",
    "avg_tcp, avg_tcp_df = avg_tcp_len(df0)\n",
    "\n",
    "# print results\n",
    "print (\"- Average TCP Length for each target\")\n",
    "for i in range (len(avg_tcp)):\n",
    "    name = avg_tcp_df.select(\"target\").collect()[i][0]\n",
    "    print (f\"{name.upper()}: {avg_tcp[i]:1.1f}\")\n",
    "\n",
    "avg_tcp_df.show ()"
   ]
  },
  {
   "cell_type": "markdown",
   "id": "c9ed5845",
   "metadata": {},
   "source": [
    "**Most frequent X** TCP flags"
   ]
  },
  {
   "cell_type": "code",
   "execution_count": 17,
   "id": "600aacd0",
   "metadata": {},
   "outputs": [],
   "source": [
    "def most_freq (DataFrame, X):\n",
    "    count_list=[]\n",
    "    \n",
    "    tcp_flags = DataFrame.select('tcp_flags').distinct().collect()\n",
    "    tcp_flags_val = [tcp_flags[i][0] for i in range(len(tcp_flags))]\n",
    "    \n",
    "    for i,value in enumerate (tcp_flags_val):\n",
    "        count_list.append (DataFrame.select('tcp_flags').filter(f\"tcp_flags=='{value}'\").count())\n",
    "        \n",
    "    table = [(tcp_flags_val[i], count_list[i]) for i in range(len(count_list))]\n",
    "    table.sort(key=lambda i: i[1], reverse=True) # sorting by counts\n",
    "    \n",
    "    df_tcp_flags = spark.createDataFrame(table[:X], ['tcp_flags','count'])\n",
    "    return df_tcp_flags"
   ]
  },
  {
   "cell_type": "code",
   "execution_count": 18,
   "id": "f46db754",
   "metadata": {},
   "outputs": [
    {
     "name": "stdout",
     "output_type": "stream",
     "text": [
      "+----------+------+\n",
      "|tcp_flags |count |\n",
      "+----------+------+\n",
      "|0x00000018|346487|\n",
      "|0x00000010|272695|\n",
      "|0x00000002|22156 |\n",
      "|0x00000012|21920 |\n",
      "|0x00000011|21573 |\n",
      "+----------+------+\n",
      "\n"
     ]
    }
   ],
   "source": [
    "# train dataset, 5 most frequent tcp_flags\n",
    "df_freq = most_freq(df0, 5)\n",
    "df_freq.show (truncate=False)"
   ]
  },
  {
   "cell_type": "markdown",
   "id": "445a9018",
   "metadata": {},
   "source": [
    "# Task III"
   ]
  },
  {
   "cell_type": "markdown",
   "id": "f3bddf4e",
   "metadata": {},
   "source": [
    "### Data Preprocessing"
   ]
  },
  {
   "cell_type": "markdown",
   "id": "e56095ea",
   "metadata": {},
   "source": [
    "#### Dropping columns\n",
    "- columns with single distinct value are dropped\n",
    "- generating lists of column names\n",
    "- \"mqtt_msg\" dropped additionally due to large number of outliers\n",
    "- \"mqtt_protoname\" dropped additionally since this feature is represented by another one \"mqtt_proto_len\""
   ]
  },
  {
   "cell_type": "code",
   "execution_count": 19,
   "id": "a135f43a",
   "metadata": {
    "scrolled": false
   },
   "outputs": [
    {
     "name": "stdout",
     "output_type": "stream",
     "text": [
      "Distinct number of elements in each column:\n",
      "tcp_flags: 8\n",
      "tcp_time_delta: 12370\n",
      "tcp_len: 691\n",
      "mqtt_conack_flags: 2\n",
      "mqtt_conack_flags_reserved: 1\n",
      "mqtt_conack_flags_sp: 1\n",
      "mqtt_conack_val: 2\n",
      "mqtt_conflag_cleansess: 2\n",
      "mqtt_conflag_passwd: 2\n",
      "mqtt_conflag_qos: 1\n",
      "mqtt_conflag_reserved: 1\n",
      "mqtt_conflag_retain: 1\n",
      "mqtt_conflag_uname: 2\n",
      "mqtt_conflag_willflag: 1\n",
      "mqtt_conflags: 4\n",
      "mqtt_dupflag: 2\n",
      "mqtt_hdrflags: 14\n",
      "mqtt_kalive: 7\n",
      "mqtt_len: 91\n",
      "mqtt_msg: 29037\n",
      "mqtt_msgid: 9917\n",
      "mqtt_msgtype: 11\n",
      "mqtt_proto_len: 2\n",
      "mqtt_protoname: 2\n",
      "mqtt_qos: 2\n",
      "mqtt_retain: 2\n",
      "mqtt_sub_qos: 1\n",
      "mqtt_suback_qos: 1\n",
      "mqtt_ver: 2\n",
      "mqtt_willmsg: 1\n",
      "mqtt_willmsg_len: 1\n",
      "mqtt_willtopic: 1\n",
      "mqtt_willtopic_len: 1\n",
      "target: 6\n",
      "Train_or_Test: 2\n"
     ]
    }
   ],
   "source": [
    "cols_to_drop = []\n",
    "binary_cols = []\n",
    "\n",
    "print (\"Distinct number of elements in each column:\")\n",
    "for i,column in enumerate(df.columns):\n",
    "    distinct_count = df.select(column).distinct().count()\n",
    "    if int(distinct_count) == 1:\n",
    "        cols_to_drop.append (str(column))\n",
    "    elif int(distinct_count) == 2:\n",
    "        binary_cols.append (str(column))\n",
    "    \n",
    "    print (f\"{df.columns[i]}: {distinct_count}\")"
   ]
  },
  {
   "cell_type": "code",
   "execution_count": 20,
   "id": "986c9df7",
   "metadata": {},
   "outputs": [
    {
     "name": "stdout",
     "output_type": "stream",
     "text": [
      "cols_to_drop: \n",
      " ['mqtt_conack_flags_reserved', 'mqtt_conack_flags_sp', 'mqtt_conflag_qos', 'mqtt_conflag_reserved', 'mqtt_conflag_retain', 'mqtt_conflag_willflag', 'mqtt_sub_qos', 'mqtt_suback_qos', 'mqtt_willmsg', 'mqtt_willmsg_len', 'mqtt_willtopic', 'mqtt_willtopic_len', 'mqtt_msg', 'mqtt_protoname']\n",
      "\n",
      "binary_cols: \n",
      " ['mqtt_conack_flags', 'mqtt_conack_val', 'mqtt_conflag_cleansess', 'mqtt_conflag_passwd', 'mqtt_conflag_uname', 'mqtt_dupflag', 'mqtt_proto_len', 'mqtt_protoname', 'mqtt_qos', 'mqtt_retain', 'mqtt_ver', 'Train_or_Test']\n"
     ]
    }
   ],
   "source": [
    "cols_to_drop.append (\"mqtt_msg\")\n",
    "cols_to_drop.append (\"mqtt_protoname\")\n",
    "\n",
    "print (\"cols_to_drop: \\n\", cols_to_drop, end='\\n'*2)\n",
    "print (\"binary_cols: \\n\", binary_cols)"
   ]
  },
  {
   "cell_type": "code",
   "execution_count": 22,
   "id": "f3ceaa0a",
   "metadata": {},
   "outputs": [
    {
     "name": "stdout",
     "output_type": "stream",
     "text": [
      "root\n",
      " |-- tcp_flags: string (nullable = true)\n",
      " |-- tcp_time_delta: string (nullable = true)\n",
      " |-- tcp_len: string (nullable = true)\n",
      " |-- mqtt_conack_flags: string (nullable = true)\n",
      " |-- mqtt_conack_val: string (nullable = true)\n",
      " |-- mqtt_conflag_cleansess: string (nullable = true)\n",
      " |-- mqtt_conflag_passwd: string (nullable = true)\n",
      " |-- mqtt_conflag_uname: string (nullable = true)\n",
      " |-- mqtt_conflags: string (nullable = true)\n",
      " |-- mqtt_dupflag: string (nullable = true)\n",
      " |-- mqtt_hdrflags: string (nullable = true)\n",
      " |-- mqtt_kalive: string (nullable = true)\n",
      " |-- mqtt_len: string (nullable = true)\n",
      " |-- mqtt_msgid: string (nullable = true)\n",
      " |-- mqtt_msgtype: string (nullable = true)\n",
      " |-- mqtt_proto_len: string (nullable = true)\n",
      " |-- mqtt_qos: string (nullable = true)\n",
      " |-- mqtt_retain: string (nullable = true)\n",
      " |-- mqtt_ver: string (nullable = true)\n",
      " |-- target: string (nullable = true)\n",
      " |-- Train_or_Test: integer (nullable = true)\n",
      "\n",
      "-RECORD 0----------------------------\n",
      " tcp_flags              | 0x00000018 \n",
      " tcp_time_delta         | 0.999749   \n",
      " tcp_len                | 13         \n",
      " mqtt_conack_flags      | 0          \n",
      " mqtt_conack_val        | 0.0        \n",
      " mqtt_conflag_cleansess | 0.0        \n",
      " mqtt_conflag_passwd    | 0.0        \n",
      " mqtt_conflag_uname     | 0.0        \n",
      " mqtt_conflags          | 0          \n",
      " mqtt_dupflag           | 0.0        \n",
      " mqtt_hdrflags          | 0x00000030 \n",
      " mqtt_kalive            | 0.0        \n",
      " mqtt_len               | 11.0       \n",
      " mqtt_msgid             | 0.0        \n",
      " mqtt_msgtype           | 3.0        \n",
      " mqtt_proto_len         | 0.0        \n",
      " mqtt_qos               | 0.0        \n",
      " mqtt_retain            | 0.0        \n",
      " mqtt_ver               | 0.0        \n",
      " target                 | legitimate \n",
      " Train_or_Test          | 0          \n",
      "only showing top 1 row\n",
      "\n"
     ]
    }
   ],
   "source": [
    "# dataset for pipeline input\n",
    "df_dropped = df.drop(*cols_to_drop)\n",
    "\n",
    "df_dropped.printSchema()\n",
    "df_dropped.show(1,vertical=True)"
   ]
  },
  {
   "cell_type": "markdown",
   "id": "2ca2e523",
   "metadata": {},
   "source": [
    "#### Saving to Postgres"
   ]
  },
  {
   "cell_type": "code",
   "execution_count": 23,
   "id": "b8c3002c",
   "metadata": {},
   "outputs": [],
   "source": [
    "# ingesting \"dropped_mqtt\"\n",
    "db_properties={}\n",
    "db_properties['url']= \"jdbc:postgresql://localhost:5432/postgres\"\n",
    "db_properties['table']= \"dropped_mqtt\"\n",
    "db_properties['username']=\"postgres\"\n",
    "db_properties['password']=\"$M8f5w2~\"\n",
    "db_properties['driver']=\"org.postgresql.Driver\"\n",
    "\n",
    "ingest_df (df_dropped)"
   ]
  },
  {
   "cell_type": "code",
   "execution_count": 24,
   "id": "b9471207",
   "metadata": {},
   "outputs": [],
   "source": [
    "# Read from postgres\n",
    "df_read = sqlContext.read.format(\"jdbc\")\\\n",
    "    .option(\"url\", db_properties['url'])\\\n",
    "    .option(\"dbtable\", db_properties['table'])\\\n",
    "    .option(\"user\", db_properties['username'])\\\n",
    "    .option(\"password\", db_properties['password'])\\\n",
    "    .option(\"Driver\", db_properties['driver'])\\\n",
    "    .load()"
   ]
  },
  {
   "cell_type": "markdown",
   "id": "a0b8af38",
   "metadata": {},
   "source": [
    "#### Preprocessing Pipeline"
   ]
  },
  {
   "cell_type": "code",
   "execution_count": 32,
   "id": "0be5eeaf",
   "metadata": {},
   "outputs": [
    {
     "name": "stdout",
     "output_type": "stream",
     "text": [
      "-RECORD 0----------------------------\n",
      " tcp_flags              | 0x00000018 \n",
      " tcp_time_delta         | 0.999749   \n",
      " tcp_len                | 13         \n",
      " mqtt_conack_flags      | 0          \n",
      " mqtt_conack_val        | 0.0        \n",
      " mqtt_conflag_cleansess | 0.0        \n",
      " mqtt_conflag_passwd    | 0.0        \n",
      " mqtt_conflag_uname     | 0.0        \n",
      " mqtt_conflags          | 0          \n",
      " mqtt_dupflag           | 0.0        \n",
      " mqtt_hdrflags          | 0x00000030 \n",
      " mqtt_kalive            | 0.0        \n",
      " mqtt_len               | 11.0       \n",
      " mqtt_msgid             | 0.0        \n",
      " mqtt_msgtype           | 3.0        \n",
      " mqtt_proto_len         | 0.0        \n",
      " mqtt_qos               | 0.0        \n",
      " mqtt_retain            | 0.0        \n",
      " mqtt_ver               | 0.0        \n",
      " target                 | legitimate \n",
      " Train_or_Test          | 0          \n",
      "only showing top 1 row\n",
      "\n"
     ]
    }
   ],
   "source": [
    "df = df_read\n",
    "\n",
    "# Data before the pipeline (input)\n",
    "df.show (1,vertical=True)"
   ]
  },
  {
   "cell_type": "code",
   "execution_count": 26,
   "id": "d70f7e6e",
   "metadata": {},
   "outputs": [],
   "source": [
    "#train test split and dropping train/test column\n",
    "df0 = df.where (df[\"Train_or_Test\"]==0).drop (\"Train_or_Test\")\n",
    "df1 = df.where (df[\"Train_or_Test\"]==1).drop (\"Train_or_Test\")\n",
    "\n",
    "\n",
    "# column names and dictionary\n",
    "col_names = df.columns\n",
    "\n",
    "nominal_cols = ['tcp_flags', 'mqtt_conflags','mqtt_hdrflags']\n",
    "\n",
    "continuous_cols = ['tcp_time_delta','tcp_len','mqtt_kalive','mqtt_len','mqtt_msgid','mqtt_msgtype']\n",
    "\n",
    "binary_cols = ['mqtt_conack_flags','mqtt_conack_val','mqtt_conflag_cleansess',\n",
    "               'mqtt_conflag_passwd','mqtt_conflag_uname','mqtt_dupflag',\n",
    "               'mqtt_proto_len','mqtt_qos','mqtt_retain','mqtt_ver']\n",
    "\n",
    "feature_cols=['tcp_time_delta', 'tcp_len', 'mqtt_kalive', 'mqtt_len', \n",
    "              'mqtt_msgid', 'mqtt_msgtype', 'mqtt_conack_flags', 'mqtt_conack_val', \n",
    "              'mqtt_conflag_cleansess', 'mqtt_conflag_passwd', 'mqtt_conflag_uname', \n",
    "              'mqtt_dupflag', 'mqtt_proto_len', 'mqtt_qos', 'mqtt_retain', 'mqtt_ver', \n",
    "              'tcp_flags_encoded', 'mqtt_conflags_encoded', 'mqtt_hdrflags_encoded']\n",
    "\n",
    "class_dict = {'legitimate':0.0,\n",
    "              'slowite':1.0,\n",
    "              'bruteforce':2.0,\n",
    "              'flood':3.0,\n",
    "              'malformed':4.0,\n",
    "              'dos':5.0}\n",
    "\n",
    "\n",
    "class OutcomeCreater(Transformer):\n",
    "    def __init__(self):\n",
    "        super().__init__()\n",
    "        \n",
    "    def _transform(self, dataset):\n",
    "        encode_target = udf(lambda name: class_dict [str(name)])\n",
    "\n",
    "        output_df = dataset.withColumn ('encoded_target', encode_target(col('target'))).drop('target')\n",
    "        output_df = output_df.withColumn('encoded_target', col('encoded_target').cast(DoubleType()))\n",
    "        return output_df\n",
    "    \n",
    "    \n",
    "class FeatureTypeCaster(Transformer):\n",
    "    def __init__(self):\n",
    "        super().__init__()\n",
    "\n",
    "    def _transform(self, dataset):\n",
    "        output_df = dataset\n",
    "        for col_name in binary_cols + continuous_cols:\n",
    "            output_df = output_df.withColumn(col_name, col(col_name).cast(DoubleType()))\n",
    "        return output_df\n",
    "\n",
    "    \n",
    "class ColumnDropper(Transformer):\n",
    "    def __init__(self, columns_to_drop = None):\n",
    "        super().__init__()\n",
    "        self.columns_to_drop = columns_to_drop\n",
    "        \n",
    "    def _transform(self, dataset):\n",
    "        output_df = dataset\n",
    "        for col_name in self.columns_to_drop:\n",
    "            output_df = output_df.drop(col_name)\n",
    "        return output_df\n",
    "    \n",
    "def get_preprocess_pipeline():\n",
    "    # list of column names\n",
    "    nominal_id_cols = [x+\"_index\" for x in nominal_cols]\n",
    "    nominal_onehot_cols = [x+\"_encoded\" for x in nominal_cols]\n",
    "    feature_cols = continuous_cols + binary_cols + nominal_onehot_cols\n",
    "\n",
    "    # stages for pipeline\n",
    "    stage_typecaster = FeatureTypeCaster()\n",
    "    stage_nominal_indexer = StringIndexer(inputCols = nominal_cols, outputCols = nominal_id_cols )\n",
    "    stage_nominal_onehot_encoder = OneHotEncoder(inputCols=nominal_id_cols, outputCols=nominal_onehot_cols)\n",
    "    stage_vector_assembler = VectorAssembler(inputCols=feature_cols, outputCol=\"vectorized_features\",handleInvalid=\"skip\")\n",
    "    stage_scaler = StandardScaler(inputCol= 'vectorized_features', outputCol= 'features')\n",
    "    stage_outcome = OutcomeCreater()\n",
    "    stage_column_dropper = ColumnDropper(columns_to_drop = nominal_cols+nominal_id_cols+\n",
    "            nominal_onehot_cols+ binary_cols + continuous_cols + ['vectorized_features'])\n",
    "\n",
    "    pipeline = Pipeline(stages=[stage_typecaster,stage_nominal_indexer,stage_nominal_onehot_encoder,\n",
    "                                stage_vector_assembler,stage_scaler,stage_outcome,stage_column_dropper])\n",
    "    \n",
    "    \n",
    "    return pipeline"
   ]
  },
  {
   "cell_type": "code",
   "execution_count": 27,
   "id": "5cc3fa23",
   "metadata": {
    "scrolled": true
   },
   "outputs": [],
   "source": [
    "pipeline_init = get_preprocess_pipeline()\n",
    "pipeline = pipeline_init.fit(df0)\n",
    "\n",
    "df0_pl = pipeline.transform (df0) # train\n",
    "df1_pl = pipeline.transform (df1) # test"
   ]
  },
  {
   "cell_type": "code",
   "execution_count": 31,
   "id": "67a26e74",
   "metadata": {},
   "outputs": [
    {
     "name": "stdout",
     "output_type": "stream",
     "text": [
      "Train set: 680316 rows\n",
      "Test set: 291789 rows\n",
      "+--------------------+--------------+\n",
      "|            features|encoded_target|\n",
      "+--------------------+--------------+\n",
      "|(39,[0,1,3,5,16,2...|           0.0|\n",
      "|(39,[17,23,26],[2...|           5.0|\n",
      "|(39,[0,17,23,26],...|           0.0|\n",
      "|(39,[0,17,23,26],...|           0.0|\n",
      "|(39,[0,17,23,26],...|           0.0|\n",
      "|(39,[0,1,2,3,5,8,...|           1.0|\n",
      "|(39,[0,1,3,5,16,2...|           3.0|\n",
      "|(39,[0,1,3,5,16,2...|           0.0|\n",
      "|(39,[0,1,3,5,16,2...|           0.0|\n",
      "|(39,[0,1,3,4,5,13...|           5.0|\n",
      "+--------------------+--------------+\n",
      "only showing top 10 rows\n",
      "\n",
      "root\n",
      " |-- features: vector (nullable = true)\n",
      " |-- encoded_target: double (nullable = true)\n",
      "\n"
     ]
    }
   ],
   "source": [
    "train_count, test_count = df0_pl.count (), df1_pl.count ()\n",
    "\n",
    "print (f\"Train set: {train_count} rows\")\n",
    "print (f\"Test set: {test_count} rows\")\n",
    "\n",
    "# vector assembled after pipeline\n",
    "df0_pl.show (10)\n",
    "df0_pl.printSchema()"
   ]
  },
  {
   "cell_type": "markdown",
   "id": "db8f66d0",
   "metadata": {},
   "source": [
    "    Note: As shown below, portion of data was dropped after vector assembler because of handleInvalid='skip'. However, directly \n",
    "    dropping unprocessable data can be convenient and fast."
   ]
  },
  {
   "cell_type": "code",
   "execution_count": 34,
   "id": "c8725caa",
   "metadata": {},
   "outputs": [
    {
     "name": "stdout",
     "output_type": "stream",
     "text": [
      "Before Pipeline: 699669, 300094\n",
      "After Pipeline: 680316, 291789\n"
     ]
    }
   ],
   "source": [
    "traincount = df.where(df[\"Train_or_Test\"]==0).count ()\n",
    "testcount = df.where(df[\"Train_or_Test\"]==1).count ()\n",
    "\n",
    "print (f\"Before Pipeline: {traincount}, {testcount}\")\n",
    "print (f\"After Pipeline: {df0_pl.count ()}, {df1_pl.count ()}\")"
   ]
  },
  {
   "cell_type": "markdown",
   "id": "40e1f3a8",
   "metadata": {},
   "source": [
    "# PySpark ML Models"
   ]
  },
  {
   "cell_type": "markdown",
   "id": "93ef1d2a",
   "metadata": {},
   "source": [
    "### 1) Logistic Regression"
   ]
  },
  {
   "cell_type": "code",
   "execution_count": 35,
   "id": "9b70deac",
   "metadata": {},
   "outputs": [],
   "source": [
    "from pyspark.ml.classification import LogisticRegression, RandomForestClassifier\n",
    "\n",
    "# Model instance\n",
    "lr = LogisticRegression(featuresCol = 'features',\n",
    "                        labelCol = 'encoded_target',\n",
    "                        regParam = 1)\n",
    "\n",
    "\n",
    "# CV\n",
    "lr_paramGrid = ParamGridBuilder() \\\n",
    "             .addGrid(lr.regParam, [0.01, 0.5, 1.0]) \\\n",
    "             .addGrid(lr.maxIter, [2, 10, 30]) \\\n",
    "             .build()\n",
    "\n",
    "multiclass_evaluator = MulticlassClassificationEvaluator(labelCol='encoded_target',\n",
    "                                                         predictionCol='prediction',\n",
    "                                                         metricName=\"accuracy\")\n",
    "\n",
    "lr_cv = CrossValidator(estimator=lr,\n",
    "                       estimatorParamMaps=lr_paramGrid, \n",
    "                       evaluator=multiclass_evaluator,\n",
    "                       numFolds=3)\n",
    "\n",
    "lr_cv_model = lr_cv.fit (df0_pl)"
   ]
  },
  {
   "cell_type": "code",
   "execution_count": 36,
   "id": "1ca29992",
   "metadata": {},
   "outputs": [
    {
     "name": "stdout",
     "output_type": "stream",
     "text": [
      "Cross-validated hyperparameters\n",
      "regParam: 0.01, maxIter: 10\n"
     ]
    }
   ],
   "source": [
    "regparam_cv = lr_cv_model.bestModel.getRegParam()\n",
    "maxiter_cv = lr_cv_model.bestModel.getMaxIter()\n",
    "\n",
    "print ('Cross-validated hyperparameters')\n",
    "print (f\"regParam: {regparam_cv}, maxIter: {maxiter_cv}\")"
   ]
  },
  {
   "cell_type": "code",
   "execution_count": 37,
   "id": "21a7cc71",
   "metadata": {},
   "outputs": [
    {
     "name": "stdout",
     "output_type": "stream",
     "text": [
      "+--------------------+--------------+--------------------+--------------------+----------+\n",
      "|            features|encoded_target|       rawPrediction|         probability|prediction|\n",
      "+--------------------+--------------+--------------------+--------------------+----------+\n",
      "|(39,[0,1,3,5,16,2...|           0.0|[3.79192969433861...|[0.93743782335014...|       0.0|\n",
      "|(39,[17,23,26],[2...|           5.0|[1.32042116849869...|[0.48726693488647...|       0.0|\n",
      "|(39,[0,17,23,26],...|           0.0|[1.32042137589069...|[0.48726699727881...|       0.0|\n",
      "|(39,[0,17,23,26],...|           0.0|[1.32042127219469...|[0.48726696608264...|       0.0|\n",
      "|(39,[0,17,23,26],...|           0.0|[1.32042194621869...|[0.48726716885776...|       0.0|\n",
      "+--------------------+--------------+--------------------+--------------------+----------+\n",
      "only showing top 5 rows\n",
      "\n",
      "+--------------------+--------------+--------------------+--------------------+----------+\n",
      "|            features|encoded_target|       rawPrediction|         probability|prediction|\n",
      "+--------------------+--------------+--------------------+--------------------+----------+\n",
      "|(39,[0,1,3,5,16,2...|           0.0|[3.79193166456262...|[0.93743796968662...|       0.0|\n",
      "|(39,[0,1,3,5,16,2...|           0.0|[3.80703959629583...|[0.93850181578115...|       0.0|\n",
      "|(39,[0,17,23,26],...|           5.0|[1.32042246469870...|[0.48726732483862...|       0.0|\n",
      "|(39,[0,17,23,26],...|           4.0|[1.32042277578670...|[0.48726741842714...|       0.0|\n",
      "|(39,[0,17,23,26],...|           5.0|[1.32042132404269...|[0.48726698168073...|       0.0|\n",
      "+--------------------+--------------+--------------------+--------------------+----------+\n",
      "only showing top 5 rows\n",
      "\n"
     ]
    },
    {
     "data": {
      "text/plain": [
       "(None, None)"
      ]
     },
     "execution_count": 37,
     "metadata": {},
     "output_type": "execute_result"
    }
   ],
   "source": [
    "lr_cv_result0 = lr_cv_model.transform (df0_pl) # train result\n",
    "lr_cv_result1 = lr_cv_model.transform (df1_pl) # test result\n",
    "\n",
    "lr_cv_result0.show (5), lr_cv_result1.show (5)"
   ]
  },
  {
   "cell_type": "markdown",
   "id": "e54fe829",
   "metadata": {},
   "source": [
    "---"
   ]
  },
  {
   "cell_type": "markdown",
   "id": "6bf234b8",
   "metadata": {},
   "source": [
    "### 2) Random Forest"
   ]
  },
  {
   "cell_type": "code",
   "execution_count": 38,
   "id": "44238c96",
   "metadata": {},
   "outputs": [],
   "source": [
    "rf = RandomForestClassifier(featuresCol=\"features\", labelCol=\"encoded_target\", numTrees=10)\n",
    "\n",
    "rf_paramGrid = ParamGridBuilder() \\\n",
    "             .addGrid(rf.maxBins, [32, 64, 128, 256]) \\\n",
    "             .addGrid(rf.numTrees, [5, 20, 40]) \\\n",
    "             .build()\n",
    "\n",
    "multiclass_evaluator = MulticlassClassificationEvaluator(labelCol='encoded_target',\n",
    "                                                         predictionCol='prediction',\n",
    "                                                         metricName=\"accuracy\")\n",
    "\n",
    "rf_cv = CrossValidator(estimator=rf,\n",
    "                       estimatorParamMaps=rf_paramGrid, \n",
    "                       evaluator=multiclass_evaluator,\n",
    "                       numFolds=3)\n",
    "\n",
    "rf_cv_model = rf_cv.fit (df0_pl)"
   ]
  },
  {
   "cell_type": "code",
   "execution_count": 39,
   "id": "b6603abb",
   "metadata": {},
   "outputs": [
    {
     "name": "stdout",
     "output_type": "stream",
     "text": [
      "Cross-validated hyperparameters\n",
      "MaxBins: 64, numTrees: 20\n"
     ]
    }
   ],
   "source": [
    "maxbin_cv = rf_cv_model.bestModel.getMaxBins()\n",
    "numtree_cv = rf_cv_model.bestModel.getNumTrees\n",
    "\n",
    "print ('Cross-validated hyperparameters')\n",
    "print (f\"MaxBins: {maxbin_cv}, numTrees: {numtree_cv}\")"
   ]
  },
  {
   "cell_type": "code",
   "execution_count": 40,
   "id": "63a76338",
   "metadata": {},
   "outputs": [
    {
     "name": "stdout",
     "output_type": "stream",
     "text": [
      "+--------------------+--------------+--------------------+--------------------+----------+\n",
      "|            features|encoded_target|       rawPrediction|         probability|prediction|\n",
      "+--------------------+--------------+--------------------+--------------------+----------+\n",
      "|(39,[0,1,3,5,16,2...|           0.0|[18.7220167248029...|[0.93610083624014...|       0.0|\n",
      "|(39,[17,23,26],[2...|           5.0|[8.46286192623984...|[0.42314309631199...|       0.0|\n",
      "|(39,[0,17,23,26],...|           0.0|[9.80148878952158...|[0.49007443947607...|       0.0|\n",
      "|(39,[0,17,23,26],...|           0.0|[9.80148878952158...|[0.49007443947607...|       0.0|\n",
      "|(39,[0,17,23,26],...|           0.0|[9.80148878952158...|[0.49007443947607...|       0.0|\n",
      "+--------------------+--------------+--------------------+--------------------+----------+\n",
      "only showing top 5 rows\n",
      "\n",
      "+--------------------+--------------+--------------------+--------------------+----------+\n",
      "|            features|encoded_target|       rawPrediction|         probability|prediction|\n",
      "+--------------------+--------------+--------------------+--------------------+----------+\n",
      "|(39,[0,1,3,5,16,2...|           0.0|[18.7220167248029...|[0.93610083624014...|       0.0|\n",
      "|(39,[0,1,3,5,16,2...|           0.0|[18.7220167248029...|[0.93610083624014...|       0.0|\n",
      "|(39,[0,17,23,26],...|           5.0|[7.48692328744708...|[0.37434616437235...|       0.0|\n",
      "|(39,[0,17,23,26],...|           4.0|[7.48692328744708...|[0.37434616437235...|       0.0|\n",
      "|(39,[0,17,23,26],...|           5.0|[9.80148878952158...|[0.49007443947607...|       0.0|\n",
      "+--------------------+--------------+--------------------+--------------------+----------+\n",
      "only showing top 5 rows\n",
      "\n"
     ]
    },
    {
     "data": {
      "text/plain": [
       "(None, None)"
      ]
     },
     "execution_count": 40,
     "metadata": {},
     "output_type": "execute_result"
    }
   ],
   "source": [
    "rf_cv_result0 = rf_cv_model.transform (df0_pl) # train result\n",
    "rf_cv_result1 = rf_cv_model.transform (df1_pl) # test result\n",
    "\n",
    "rf_cv_result0.show (5), rf_cv_result1.show (5)"
   ]
  },
  {
   "cell_type": "markdown",
   "id": "b36a23ef",
   "metadata": {},
   "source": [
    "### Model Evaluation on Test Dataset"
   ]
  },
  {
   "cell_type": "markdown",
   "id": "25ac1639",
   "metadata": {},
   "source": [
    "- Accuracies\n",
    "- Confusion Matrix"
   ]
  },
  {
   "cell_type": "code",
   "execution_count": 41,
   "id": "7bb3b7d5",
   "metadata": {},
   "outputs": [
    {
     "name": "stdout",
     "output_type": "stream",
     "text": [
      "LR Test Accuracy: 0.7475 \n",
      "\n",
      "RF Test Accuracy: 0.7476\n"
     ]
    }
   ],
   "source": [
    "# accuracies\n",
    "lr_acc1 = multiclass_evaluator.evaluate (lr_cv_result1)\n",
    "rf_acc1 = multiclass_evaluator.evaluate (rf_cv_result1)\n",
    "\n",
    "print (f\"LR Test Accuracy: {lr_acc1:1.4f}\",'\\n')\n",
    "print (f\"RF Test Accuracy: {rf_acc1:1.4f}\")"
   ]
  },
  {
   "cell_type": "code",
   "execution_count": 42,
   "id": "005a89c1",
   "metadata": {},
   "outputs": [],
   "source": [
    "# confusion matrix\n",
    "from sklearn.metrics import confusion_matrix\n",
    "import itertools\n",
    "\n",
    "target_names = [\"legitimate\",\"slowite\",\"bruteforce\",\"flood\",\"malformed\",\"dos\"]\n",
    "target_names_int = [0.0, 1.0, 2.0, 3.0, 4.0, 5.0]\n",
    "\n",
    "def plot_confusion_matrix(result, classes, normalize=False, title='Confusion matrix', cmap=plt.cm.Blues):\n",
    "    target_pandas = result.select(\"encoded_target\").toPandas()\n",
    "    prediction_pandas = result.select(\"prediction\").toPandas()\n",
    "    cm = confusion_matrix (target_pandas, prediction_pandas, labels=target_names_int)\n",
    "\n",
    "    if normalize:\n",
    "        cm = cm.astype('float') / cm.sum(axis=1)[:, np.newaxis]\n",
    "        #cm = cm*100\n",
    "        print(\"Normalized confusion matrix\")\n",
    "    else:\n",
    "        print('Confusion matrix, without normalization')\n",
    "\n",
    "    plt.imshow(cm, interpolation='nearest', cmap=cmap)\n",
    "    plt.title(title, fontsize=16)\n",
    "    plt.colorbar()\n",
    "    tick_marks = np.arange(len(classes))\n",
    "    plt.xticks(tick_marks, classes, rotation=45)\n",
    "    plt.yticks(tick_marks, classes)\n",
    "\n",
    "    fmt = '.2f' if normalize else 'd'\n",
    "    thresh = cm.max() / 2.\n",
    "    for i, j in itertools.product(range(cm.shape[0]), range(cm.shape[1])):\n",
    "        plt.text(j, i, format(cm[i, j], fmt),\n",
    "                 horizontalalignment=\"center\",\n",
    "                 color=\"white\" if cm[i, j] > thresh else \"black\")\n",
    "\n",
    "    plt.tight_layout()\n",
    "    plt.ylabel('True label')\n",
    "    plt.xlabel('Predicted label')"
   ]
  },
  {
   "cell_type": "code",
   "execution_count": 43,
   "id": "0ecc20c2",
   "metadata": {},
   "outputs": [
    {
     "name": "stdout",
     "output_type": "stream",
     "text": [
      "Confusion matrix, without normalization\n"
     ]
    },
    {
     "data": {
      "image/png": "[encoded data removed]",
      "text/plain": [
       "<Figure size 432x432 with 2 Axes>"
      ]
     },
     "metadata": {
      "needs_background": "light"
     },
     "output_type": "display_data"
    }
   ],
   "source": [
    "plt.figure(figsize=(6,6))\n",
    "plot_confusion_matrix(lr_cv_result1, classes=target_names, title='LR (Test)')\n",
    "plt.show()"
   ]
  },
  {
   "cell_type": "code",
   "execution_count": 44,
   "id": "12d4113e",
   "metadata": {},
   "outputs": [
    {
     "name": "stdout",
     "output_type": "stream",
     "text": [
      "Confusion matrix, without normalization\n"
     ]
    },
    {
     "data": {
      "image/png": "[encoded data removed]",
      "text/plain": [
       "<Figure size 432x432 with 2 Axes>"
      ]
     },
     "metadata": {
      "needs_background": "light"
     },
     "output_type": "display_data"
    }
   ],
   "source": [
    "plt.figure(figsize=(6,6))\n",
    "plot_confusion_matrix(rf_cv_result1, classes=target_names, title='RF (Test)')\n",
    "plt.show()"
   ]
  },
  {
   "cell_type": "markdown",
   "id": "23a0b822",
   "metadata": {},
   "source": [
    "---"
   ]
  },
  {
   "cell_type": "markdown",
   "id": "022cade1",
   "metadata": {},
   "source": [
    "# Tensorflow ML Models"
   ]
  },
  {
   "cell_type": "markdown",
   "id": "cf1fdc76",
   "metadata": {},
   "source": [
    "#### Data preparation for tensorflow input"
   ]
  },
  {
   "cell_type": "code",
   "execution_count": 46,
   "id": "38185f48",
   "metadata": {},
   "outputs": [
    {
     "name": "stdout",
     "output_type": "stream",
     "text": [
      "Num GPUs Available:  0\n"
     ]
    }
   ],
   "source": [
    "import tensorflow as tf\n",
    "from tensorflow import keras \n",
    "import datetime\n",
    "\n",
    "# train,validate,test\n",
    "df_train = df0_pl\n",
    "df_val, df_test = df1_pl.randomSplit([0.5,0.5])\n",
    "\n",
    "\n",
    "# pandas\n",
    "to_array = udf(lambda v: v.toArray().tolist(), ArrayType(FloatType()))\n",
    "df_train_pandas = df_train.withColumn('features', to_array('features')).toPandas()\n",
    "df_val_pandas = df_val.withColumn('features', to_array('features')).toPandas()\n",
    "df_test_pandas = df_test.withColumn('features', to_array('features')).toPandas()\n",
    "\n",
    "\n",
    "# tensors\n",
    "x_train = tf.constant(np.array(df_train_pandas['features'].values.tolist()))\n",
    "y_train = tf.constant(np.array(df_train_pandas['encoded_target'].values.tolist()))\n",
    "\n",
    "x_validate = tf.constant(np.array(df_val_pandas['features'].values.tolist()))\n",
    "y_validate = tf.constant(np.array(df_val_pandas['encoded_target'].values.tolist()))\n",
    "\n",
    "x_test = tf.constant(np.array(df_test_pandas['features'].values.tolist()))\n",
    "y_test = tf.constant(np.array(df_test_pandas['encoded_target'].values.tolist()))\n",
    "\n",
    "\n",
    "# confirm gpu\n",
    "print(\"Num GPUs Available: \", len(tf.config.list_physical_devices('GPU')))"
   ]
  },
  {
   "cell_type": "code",
   "execution_count": 47,
   "id": "c478c26f",
   "metadata": {},
   "outputs": [
    {
     "name": "stdout",
     "output_type": "stream",
     "text": [
      "Train shape:  (680316, 39) (680316,)\n",
      "Validation shape:  (146075, 39) (146075,)\n",
      "Test shape:  (145714, 39) (145714,)\n"
     ]
    }
   ],
   "source": [
    "# data shapes\n",
    "print (\"Train shape: \", x_train.shape, y_train.shape)\n",
    "print (\"Validation shape: \", x_validate.shape, y_validate.shape)\n",
    "print (\"Test shape: \", x_test.shape, y_test.shape)"
   ]
  },
  {
   "cell_type": "code",
   "execution_count": 48,
   "id": "8909be68",
   "metadata": {},
   "outputs": [],
   "source": [
    "def kfold(x, y, k):\n",
    "    data_cv = tf.concat([x, tf.expand_dims(y,1)],axis = 1)\n",
    "    data_cv = tf.random.shuffle(data_cv)\n",
    "    N_samples = x.shape[0]\n",
    "    N_subset = N_samples //k\n",
    "    return_subsets = []\n",
    "\n",
    "    for i in range(k):\n",
    "        validation_i = tf.identity(data_cv[i*N_subset:(i+1)*N_subset,:])\n",
    "        train_i_index = []\n",
    "        if i > 0:\n",
    "            train_i_index = train_i_index + list(range(0,i*N_subset))\n",
    "        if i < k-1:\n",
    "            train_i_index = train_i_index + list(range((i+1)*N_subset,N_samples))\n",
    "        train_i = tf.identity(tf.gather(data_cv,train_i_index,axis = 0 ))\n",
    "\n",
    "        return_subsets.append( (train_i[:,:-1],train_i[:,-1],validation_i[:,:-1],validation_i[:,-1]) )\n",
    "    return return_subsets\n",
    "\n",
    "### shuffled k fold sets   \n",
    "x_cv = tf.concat([x_train,x_validate], axis=0)\n",
    "y_cv = tf.concat([y_train,y_validate], axis=0)\n",
    "ksets = kfold (x_cv, y_cv, 5)"
   ]
  },
  {
   "cell_type": "markdown",
   "id": "dd96ce85",
   "metadata": {},
   "source": [
    "### Model 1\n",
    "\n",
    "\n",
    "**Hyperparameters:**\n",
    "- Neural network depth (number of hidden layers)\n",
    "- width(number of neurons per layer)\n",
    "- optimizer "
   ]
  },
  {
   "cell_type": "code",
   "execution_count": 52,
   "id": "f32c13cc",
   "metadata": {},
   "outputs": [],
   "source": [
    "def compile_model (hparams):\n",
    "    k = len(ksets)\n",
    "    \n",
    "    for i in range(k):\n",
    "        model = keras.Sequential()\n",
    "        \n",
    "        for _ in range(hparams[HP_DEPTH]):\n",
    "            model.add(keras.layers.Dense(hparams[HP_WIDTH],activation='relu'))\n",
    "        \n",
    "        model.add(keras.layers.Dense(6))\n",
    "    \n",
    "    model.compile(\n",
    "        optimizer = hparams[HP_OPTIMIZER],\n",
    "        loss = keras.losses.SparseCategoricalCrossentropy(from_logits=True),\n",
    "        metrics=[keras.metrics.SparseCategoricalAccuracy(name=\"Accuracy_epochs\")])\n",
    "    return model\n",
    "\n",
    "\n",
    "\n",
    "def cv(model, hparams, ksets):\n",
    "    k = len(ksets)\n",
    "    accuracy = 0.0\n",
    "    \n",
    "    for sets in ksets:\n",
    "\n",
    "        history = model.fit(sets[0], sets[1], epochs=5, verbose = 2,\n",
    "                            validation_data = (sets[2], sets[3]),\n",
    "                            callbacks=model_callbacks)\n",
    "\n",
    "    accuracy += np.max (history.history[\"val_Accuracy_epochs\"])\n",
    "    return accuracy/k\n"
   ]
  },
  {
   "cell_type": "code",
   "execution_count": 55,
   "id": "98cc674f",
   "metadata": {},
   "outputs": [],
   "source": [
    "from tensorboard.plugins.hparams import api as hp\n",
    "\n",
    "# hyperparams\n",
    "HP_WIDTH = hp.HParam('NN_width', hp.Discrete([20,30]))\n",
    "HP_DEPTH = hp.HParam('NN_depth', hp.Discrete([1,2]))\n",
    "HP_OPTIMIZER = hp.HParam('optimizer', hp.Discrete (['adam','sgd']))\n",
    "\n",
    "\n",
    "# callback / path\n",
    "checkpoint_path = \"mqtt_NN/model1/cv_model.ckpt\"\n",
    "checkpoint_callback = tf.keras.callbacks.ModelCheckpoint(filepath = checkpoint_path,\n",
    "                                                         verbose=0,\n",
    "                                                         save_best_only=True)\n",
    "\n",
    "model_callbacks = [checkpoint_callback]\n",
    "\n",
    "with tf.summary.create_file_writer(\"mqtt_NN/model1/hp_tuning\").as_default():\n",
    "    hp.hparams_config(\n",
    "        hparams=[HP_WIDTH, HP_DEPTH, HP_OPTIMIZER],\n",
    "        metrics=[hp.Metric('Accuracy')]\n",
    "        )\n"
   ]
  },
  {
   "cell_type": "code",
   "execution_count": 56,
   "id": "062a8e7a",
   "metadata": {
    "scrolled": false
   },
   "outputs": [
    {
     "name": "stdout",
     "output_type": "stream",
     "text": [
      "--- Trial 1: -WIDTH20-DEPTH1-adam\n",
      "{'NN_width': 20, 'NN_depth': 1, 'optimizer': 'adam'}\n",
      "Epoch 1/5\n",
      "INFO:tensorflow:Assets written to: mqtt_NN/model1\\cv_model.ckpt\\assets\n",
      "20660/20660 - 14s - loss: 0.7094 - Accuracy_epochs: 0.7496 - val_loss: 0.6926 - val_Accuracy_epochs: 0.7546 - 14s/epoch - 672us/step\n",
      "Epoch 2/5\n",
      "INFO:tensorflow:Assets written to: mqtt_NN/model1\\cv_model.ckpt\\assets\n",
      "20660/20660 - 13s - loss: 0.6915 - Accuracy_epochs: 0.7540 - val_loss: 0.6886 - val_Accuracy_epochs: 0.7549 - 13s/epoch - 641us/step\n",
      "Epoch 3/5\n",
      "INFO:tensorflow:Assets written to: mqtt_NN/model1\\cv_model.ckpt\\assets\n",
      "20660/20660 - 13s - loss: 0.6889 - Accuracy_epochs: 0.7546 - val_loss: 0.6870 - val_Accuracy_epochs: 0.7552 - 13s/epoch - 640us/step\n",
      "Epoch 4/5\n",
      "INFO:tensorflow:Assets written to: mqtt_NN/model1\\cv_model.ckpt\\assets\n",
      "20660/20660 - 13s - loss: 0.6876 - Accuracy_epochs: 0.7546 - val_loss: 0.6864 - val_Accuracy_epochs: 0.7551 - 13s/epoch - 643us/step\n",
      "Epoch 5/5\n",
      "INFO:tensorflow:Assets written to: mqtt_NN/model1\\cv_model.ckpt\\assets\n",
      "20660/20660 - 13s - loss: 0.6865 - Accuracy_epochs: 0.7547 - val_loss: 0.6841 - val_Accuracy_epochs: 0.7551 - 13s/epoch - 633us/step\n",
      "Epoch 1/5\n",
      "20660/20660 - 13s - loss: 0.6846 - Accuracy_epochs: 0.7551 - val_loss: 0.6882 - val_Accuracy_epochs: 0.7535 - 13s/epoch - 643us/step\n",
      "Epoch 2/5\n",
      "20660/20660 - 13s - loss: 0.6838 - Accuracy_epochs: 0.7552 - val_loss: 0.6882 - val_Accuracy_epochs: 0.7539 - 13s/epoch - 641us/step\n",
      "Epoch 3/5\n",
      "20660/20660 - 13s - loss: 0.6832 - Accuracy_epochs: 0.7553 - val_loss: 0.6873 - val_Accuracy_epochs: 0.7540 - 13s/epoch - 643us/step\n",
      "Epoch 4/5\n",
      "20660/20660 - 13s - loss: 0.6827 - Accuracy_epochs: 0.7555 - val_loss: 0.6855 - val_Accuracy_epochs: 0.7543 - 13s/epoch - 643us/step\n",
      "Epoch 5/5\n",
      "20660/20660 - 13s - loss: 0.6823 - Accuracy_epochs: 0.7556 - val_loss: 0.6853 - val_Accuracy_epochs: 0.7539 - 13s/epoch - 651us/step\n",
      "Epoch 1/5\n",
      "INFO:tensorflow:Assets written to: mqtt_NN/model1\\cv_model.ckpt\\assets\n",
      "20660/20660 - 14s - loss: 0.6835 - Accuracy_epochs: 0.7549 - val_loss: 0.6797 - val_Accuracy_epochs: 0.7574 - 14s/epoch - 654us/step\n",
      "Epoch 2/5\n",
      "INFO:tensorflow:Assets written to: mqtt_NN/model1\\cv_model.ckpt\\assets\n",
      "20660/20660 - 13s - loss: 0.6832 - Accuracy_epochs: 0.7550 - val_loss: 0.6782 - val_Accuracy_epochs: 0.7574 - 13s/epoch - 647us/step\n",
      "Epoch 3/5\n",
      "INFO:tensorflow:Assets written to: mqtt_NN/model1\\cv_model.ckpt\\assets\n",
      "20660/20660 - 13s - loss: 0.6826 - Accuracy_epochs: 0.7550 - val_loss: 0.6772 - val_Accuracy_epochs: 0.7570 - 13s/epoch - 649us/step\n",
      "Epoch 4/5\n",
      "20660/20660 - 13s - loss: 0.6814 - Accuracy_epochs: 0.7550 - val_loss: 0.6785 - val_Accuracy_epochs: 0.7572 - 13s/epoch - 640us/step\n",
      "Epoch 5/5\n",
      "INFO:tensorflow:Assets written to: mqtt_NN/model1\\cv_model.ckpt\\assets\n",
      "20660/20660 - 14s - loss: 0.6796 - Accuracy_epochs: 0.7552 - val_loss: 0.6734 - val_Accuracy_epochs: 0.7570 - 14s/epoch - 659us/step\n",
      "Epoch 1/5\n",
      "20660/20660 - 13s - loss: 0.6774 - Accuracy_epochs: 0.7557 - val_loss: 0.6753 - val_Accuracy_epochs: 0.7595 - 13s/epoch - 648us/step\n",
      "Epoch 2/5\n",
      "INFO:tensorflow:Assets written to: mqtt_NN/model1\\cv_model.ckpt\\assets\n",
      "20660/20660 - 14s - loss: 0.6753 - Accuracy_epochs: 0.7565 - val_loss: 0.6729 - val_Accuracy_epochs: 0.7569 - 14s/epoch - 654us/step\n",
      "Epoch 3/5\n",
      "INFO:tensorflow:Assets written to: mqtt_NN/model1\\cv_model.ckpt\\assets\n",
      "20660/20660 - 13s - loss: 0.6730 - Accuracy_epochs: 0.7577 - val_loss: 0.6694 - val_Accuracy_epochs: 0.7575 - 13s/epoch - 648us/step\n",
      "Epoch 4/5\n",
      "INFO:tensorflow:Assets written to: mqtt_NN/model1\\cv_model.ckpt\\assets\n",
      "20660/20660 - 14s - loss: 0.6709 - Accuracy_epochs: 0.7588 - val_loss: 0.6667 - val_Accuracy_epochs: 0.7600 - 14s/epoch - 654us/step\n",
      "Epoch 5/5\n",
      "INFO:tensorflow:Assets written to: mqtt_NN/model1\\cv_model.ckpt\\assets\n",
      "20660/20660 - 14s - loss: 0.6694 - Accuracy_epochs: 0.7595 - val_loss: 0.6666 - val_Accuracy_epochs: 0.7596 - 14s/epoch - 657us/step\n",
      "Epoch 1/5\n",
      "20660/20660 - 13s - loss: 0.6676 - Accuracy_epochs: 0.7608 - val_loss: 0.6685 - val_Accuracy_epochs: 0.7585 - 13s/epoch - 642us/step\n",
      "Epoch 2/5\n",
      "20660/20660 - 13s - loss: 0.6667 - Accuracy_epochs: 0.7611 - val_loss: 0.6674 - val_Accuracy_epochs: 0.7589 - 13s/epoch - 642us/step\n",
      "Epoch 3/5\n",
      "INFO:tensorflow:Assets written to: mqtt_NN/model1\\cv_model.ckpt\\assets\n",
      "20660/20660 - 14s - loss: 0.6662 - Accuracy_epochs: 0.7612 - val_loss: 0.6665 - val_Accuracy_epochs: 0.7591 - 14s/epoch - 692us/step\n",
      "Epoch 4/5\n",
      "INFO:tensorflow:Assets written to: mqtt_NN/model1\\cv_model.ckpt\\assets\n",
      "20660/20660 - 14s - loss: 0.6657 - Accuracy_epochs: 0.7614 - val_loss: 0.6664 - val_Accuracy_epochs: 0.7596 - 14s/epoch - 677us/step\n",
      "Epoch 5/5\n",
      "20660/20660 - 13s - loss: 0.6653 - Accuracy_epochs: 0.7615 - val_loss: 0.6668 - val_Accuracy_epochs: 0.7590 - 13s/epoch - 636us/step\n",
      "Best model updated...\n",
      "--- Trial 2: -WIDTH20-DEPTH1-sgd\n",
      "{'NN_width': 20, 'NN_depth': 1, 'optimizer': 'sgd'}\n",
      "Epoch 1/5\n",
      "20660/20660 - 12s - loss: 0.7327 - Accuracy_epochs: 0.7451 - val_loss: 0.7101 - val_Accuracy_epochs: 0.7510 - 12s/epoch - 580us/step\n",
      "Epoch 2/5\n",
      "20660/20660 - 12s - loss: 0.7113 - Accuracy_epochs: 0.7502 - val_loss: 0.7093 - val_Accuracy_epochs: 0.7512 - 12s/epoch - 577us/step\n",
      "Epoch 3/5\n",
      "20660/20660 - 12s - loss: 0.7080 - Accuracy_epochs: 0.7509 - val_loss: 0.7037 - val_Accuracy_epochs: 0.7523 - 12s/epoch - 570us/step\n",
      "Epoch 4/5\n",
      "20660/20660 - 12s - loss: 0.7059 - Accuracy_epochs: 0.7515 - val_loss: 0.7023 - val_Accuracy_epochs: 0.7529 - 12s/epoch - 575us/step\n",
      "Epoch 5/5\n",
      "20660/20660 - 12s - loss: 0.7034 - Accuracy_epochs: 0.7519 - val_loss: 0.7002 - val_Accuracy_epochs: 0.7530 - 12s/epoch - 570us/step\n",
      "Epoch 1/5\n",
      "20660/20660 - 12s - loss: 0.7009 - Accuracy_epochs: 0.7525 - val_loss: 0.7037 - val_Accuracy_epochs: 0.7520 - 12s/epoch - 588us/step\n",
      "Epoch 2/5\n",
      "20660/20660 - 12s - loss: 0.6996 - Accuracy_epochs: 0.7527 - val_loss: 0.7005 - val_Accuracy_epochs: 0.7521 - 12s/epoch - 581us/step\n",
      "Epoch 3/5\n",
      "20660/20660 - 12s - loss: 0.6986 - Accuracy_epochs: 0.7527 - val_loss: 0.7021 - val_Accuracy_epochs: 0.7521 - 12s/epoch - 584us/step\n",
      "Epoch 4/5\n",
      "20660/20660 - 12s - loss: 0.6977 - Accuracy_epochs: 0.7528 - val_loss: 0.6992 - val_Accuracy_epochs: 0.7524 - 12s/epoch - 589us/step\n",
      "Epoch 5/5\n",
      "20660/20660 - 12s - loss: 0.6971 - Accuracy_epochs: 0.7530 - val_loss: 0.7002 - val_Accuracy_epochs: 0.7521 - 12s/epoch - 589us/step\n",
      "Epoch 1/5\n",
      "20660/20660 - 12s - loss: 0.6981 - Accuracy_epochs: 0.7523 - val_loss: 0.6918 - val_Accuracy_epochs: 0.7555 - 12s/epoch - 591us/step\n",
      "Epoch 2/5\n",
      "20660/20660 - 12s - loss: 0.6975 - Accuracy_epochs: 0.7526 - val_loss: 0.6901 - val_Accuracy_epochs: 0.7560 - 12s/epoch - 592us/step\n",
      "Epoch 3/5\n",
      "20660/20660 - 12s - loss: 0.6970 - Accuracy_epochs: 0.7525 - val_loss: 0.6928 - val_Accuracy_epochs: 0.7525 - 12s/epoch - 589us/step\n",
      "Epoch 4/5\n",
      "20660/20660 - 12s - loss: 0.6965 - Accuracy_epochs: 0.7526 - val_loss: 0.6923 - val_Accuracy_epochs: 0.7526 - 12s/epoch - 582us/step\n",
      "Epoch 5/5\n",
      "20660/20660 - 12s - loss: 0.6961 - Accuracy_epochs: 0.7527 - val_loss: 0.6906 - val_Accuracy_epochs: 0.7556 - 12s/epoch - 584us/step\n",
      "Epoch 1/5\n",
      "20660/20660 - 12s - loss: 0.6954 - Accuracy_epochs: 0.7530 - val_loss: 0.6920 - val_Accuracy_epochs: 0.7547 - 12s/epoch - 587us/step\n",
      "Epoch 2/5\n",
      "20660/20660 - 12s - loss: 0.6951 - Accuracy_epochs: 0.7529 - val_loss: 0.6913 - val_Accuracy_epochs: 0.7545 - 12s/epoch - 584us/step\n",
      "Epoch 3/5\n",
      "20660/20660 - 12s - loss: 0.6947 - Accuracy_epochs: 0.7530 - val_loss: 0.6904 - val_Accuracy_epochs: 0.7547 - 12s/epoch - 585us/step\n",
      "Epoch 4/5\n",
      "20660/20660 - 12s - loss: 0.6944 - Accuracy_epochs: 0.7532 - val_loss: 0.6897 - val_Accuracy_epochs: 0.7551 - 12s/epoch - 584us/step\n",
      "Epoch 5/5\n",
      "20660/20660 - 12s - loss: 0.6942 - Accuracy_epochs: 0.7530 - val_loss: 0.6937 - val_Accuracy_epochs: 0.7545 - 12s/epoch - 583us/step\n",
      "Epoch 1/5\n",
      "20660/20660 - 12s - loss: 0.6927 - Accuracy_epochs: 0.7539 - val_loss: 0.6954 - val_Accuracy_epochs: 0.7517 - 12s/epoch - 588us/step\n",
      "Epoch 2/5\n",
      "20660/20660 - 12s - loss: 0.6924 - Accuracy_epochs: 0.7539 - val_loss: 0.6943 - val_Accuracy_epochs: 0.7520 - 12s/epoch - 577us/step\n",
      "Epoch 3/5\n",
      "20660/20660 - 12s - loss: 0.6921 - Accuracy_epochs: 0.7539 - val_loss: 0.6944 - val_Accuracy_epochs: 0.7517 - 12s/epoch - 585us/step\n",
      "Epoch 4/5\n",
      "20660/20660 - 12s - loss: 0.6920 - Accuracy_epochs: 0.7539 - val_loss: 0.6994 - val_Accuracy_epochs: 0.7517 - 12s/epoch - 583us/step\n"
     ]
    },
    {
     "name": "stdout",
     "output_type": "stream",
     "text": [
      "Epoch 5/5\n",
      "20660/20660 - 12s - loss: 0.6917 - Accuracy_epochs: 0.7540 - val_loss: 0.6975 - val_Accuracy_epochs: 0.7521 - 12s/epoch - 576us/step\n",
      "--- Trial 3: -WIDTH20-DEPTH2-adam\n",
      "{'NN_width': 20, 'NN_depth': 2, 'optimizer': 'adam'}\n",
      "Epoch 1/5\n",
      "20660/20660 - 13s - loss: 0.7057 - Accuracy_epochs: 0.7507 - val_loss: 0.6922 - val_Accuracy_epochs: 0.7544 - 13s/epoch - 653us/step\n",
      "Epoch 2/5\n",
      "20660/20660 - 13s - loss: 0.6895 - Accuracy_epochs: 0.7540 - val_loss: 0.6843 - val_Accuracy_epochs: 0.7551 - 13s/epoch - 650us/step\n",
      "Epoch 3/5\n",
      "20660/20660 - 13s - loss: 0.6864 - Accuracy_epochs: 0.7545 - val_loss: 0.6825 - val_Accuracy_epochs: 0.7552 - 13s/epoch - 646us/step\n",
      "Epoch 4/5\n",
      "20660/20660 - 13s - loss: 0.6840 - Accuracy_epochs: 0.7547 - val_loss: 0.6806 - val_Accuracy_epochs: 0.7553 - 13s/epoch - 648us/step\n",
      "Epoch 5/5\n",
      "20660/20660 - 13s - loss: 0.6826 - Accuracy_epochs: 0.7547 - val_loss: 0.6793 - val_Accuracy_epochs: 0.7552 - 13s/epoch - 643us/step\n",
      "Epoch 1/5\n",
      "20660/20660 - 14s - loss: 0.6804 - Accuracy_epochs: 0.7552 - val_loss: 0.6864 - val_Accuracy_epochs: 0.7541 - 14s/epoch - 661us/step\n",
      "Epoch 2/5\n",
      "20660/20660 - 14s - loss: 0.6804 - Accuracy_epochs: 0.7554 - val_loss: 0.6899 - val_Accuracy_epochs: 0.7540 - 14s/epoch - 653us/step\n",
      "Epoch 3/5\n",
      "20660/20660 - 14s - loss: 0.6825 - Accuracy_epochs: 0.7554 - val_loss: 0.6837 - val_Accuracy_epochs: 0.7540 - 14s/epoch - 654us/step\n",
      "Epoch 4/5\n",
      "20660/20660 - 14s - loss: 0.6803 - Accuracy_epochs: 0.7554 - val_loss: 0.6849 - val_Accuracy_epochs: 0.7542 - 14s/epoch - 657us/step\n",
      "Epoch 5/5\n",
      "20660/20660 - 13s - loss: 0.6809 - Accuracy_epochs: 0.7555 - val_loss: 0.6835 - val_Accuracy_epochs: 0.7540 - 13s/epoch - 651us/step\n",
      "Epoch 1/5\n",
      "20660/20660 - 14s - loss: 0.6820 - Accuracy_epochs: 0.7547 - val_loss: 0.6760 - val_Accuracy_epochs: 0.7569 - 14s/epoch - 658us/step\n",
      "Epoch 2/5\n",
      "20660/20660 - 13s - loss: 0.6804 - Accuracy_epochs: 0.7547 - val_loss: 0.6736 - val_Accuracy_epochs: 0.7572 - 13s/epoch - 653us/step\n",
      "Epoch 3/5\n",
      "20660/20660 - 13s - loss: 0.6792 - Accuracy_epochs: 0.7551 - val_loss: 0.6733 - val_Accuracy_epochs: 0.7583 - 13s/epoch - 651us/step\n",
      "Epoch 4/5\n",
      "20660/20660 - 13s - loss: 0.6763 - Accuracy_epochs: 0.7561 - val_loss: 0.6666 - val_Accuracy_epochs: 0.7612 - 13s/epoch - 653us/step\n",
      "Epoch 5/5\n",
      "20660/20660 - 14s - loss: 0.6731 - Accuracy_epochs: 0.7577 - val_loss: 0.6752 - val_Accuracy_epochs: 0.7580 - 14s/epoch - 655us/step\n",
      "Epoch 1/5\n",
      "20660/20660 - 13s - loss: 0.6702 - Accuracy_epochs: 0.7590 - val_loss: 0.6666 - val_Accuracy_epochs: 0.7623 - 13s/epoch - 647us/step\n",
      "Epoch 2/5\n",
      "INFO:tensorflow:Assets written to: mqtt_NN/model1\\cv_model.ckpt\\assets\n",
      "20660/20660 - 14s - loss: 0.6684 - Accuracy_epochs: 0.7599 - val_loss: 0.6618 - val_Accuracy_epochs: 0.7626 - 14s/epoch - 669us/step\n",
      "Epoch 3/5\n",
      "INFO:tensorflow:Assets written to: mqtt_NN/model1\\cv_model.ckpt\\assets\n",
      "20660/20660 - 14s - loss: 0.6679 - Accuracy_epochs: 0.7601 - val_loss: 0.6618 - val_Accuracy_epochs: 0.7625 - 14s/epoch - 674us/step\n",
      "Epoch 4/5\n",
      "20660/20660 - 14s - loss: 0.6667 - Accuracy_epochs: 0.7604 - val_loss: 0.6639 - val_Accuracy_epochs: 0.7622 - 14s/epoch - 660us/step\n",
      "Epoch 5/5\n",
      "INFO:tensorflow:Assets written to: mqtt_NN/model1\\cv_model.ckpt\\assets\n",
      "20660/20660 - 14s - loss: 0.6690 - Accuracy_epochs: 0.7595 - val_loss: 0.6606 - val_Accuracy_epochs: 0.7627 - 14s/epoch - 671us/step\n",
      "Epoch 1/5\n",
      "20660/20660 - 13s - loss: 0.6687 - Accuracy_epochs: 0.7602 - val_loss: 0.6924 - val_Accuracy_epochs: 0.7527 - 13s/epoch - 653us/step\n",
      "Epoch 2/5\n",
      "20660/20660 - 13s - loss: 0.6833 - Accuracy_epochs: 0.7557 - val_loss: 0.6814 - val_Accuracy_epochs: 0.7533 - 13s/epoch - 653us/step\n",
      "Epoch 3/5\n",
      "20660/20660 - 13s - loss: 0.6804 - Accuracy_epochs: 0.7558 - val_loss: 0.6812 - val_Accuracy_epochs: 0.7529 - 13s/epoch - 653us/step\n",
      "Epoch 4/5\n",
      "20660/20660 - 14s - loss: 0.6794 - Accuracy_epochs: 0.7558 - val_loss: 0.6809 - val_Accuracy_epochs: 0.7533 - 14s/epoch - 656us/step\n",
      "Epoch 5/5\n",
      "20660/20660 - 14s - loss: 0.6836 - Accuracy_epochs: 0.7558 - val_loss: 0.6816 - val_Accuracy_epochs: 0.7533 - 14s/epoch - 657us/step\n",
      "--- Trial 4: -WIDTH20-DEPTH2-sgd\n",
      "{'NN_width': 20, 'NN_depth': 2, 'optimizer': 'sgd'}\n",
      "Epoch 1/5\n",
      "20660/20660 - 12s - loss: 0.7308 - Accuracy_epochs: 0.7459 - val_loss: 0.7102 - val_Accuracy_epochs: 0.7487 - 12s/epoch - 591us/step\n",
      "Epoch 2/5\n",
      "20660/20660 - 12s - loss: 0.7051 - Accuracy_epochs: 0.7515 - val_loss: 0.7004 - val_Accuracy_epochs: 0.7530 - 12s/epoch - 580us/step\n",
      "Epoch 3/5\n",
      "20660/20660 - 12s - loss: 0.7011 - Accuracy_epochs: 0.7522 - val_loss: 0.6971 - val_Accuracy_epochs: 0.7530 - 12s/epoch - 582us/step\n",
      "Epoch 4/5\n",
      "20660/20660 - 12s - loss: 0.6985 - Accuracy_epochs: 0.7525 - val_loss: 0.7016 - val_Accuracy_epochs: 0.7535 - 12s/epoch - 580us/step\n",
      "Epoch 5/5\n",
      "20660/20660 - 12s - loss: 0.6967 - Accuracy_epochs: 0.7527 - val_loss: 0.6954 - val_Accuracy_epochs: 0.7502 - 12s/epoch - 579us/step\n",
      "Epoch 1/5\n",
      "20660/20660 - 12s - loss: 0.6945 - Accuracy_epochs: 0.7533 - val_loss: 0.6969 - val_Accuracy_epochs: 0.7524 - 12s/epoch - 593us/step\n",
      "Epoch 2/5\n",
      "20660/20660 - 12s - loss: 0.6936 - Accuracy_epochs: 0.7535 - val_loss: 0.6964 - val_Accuracy_epochs: 0.7497 - 12s/epoch - 593us/step\n",
      "Epoch 3/5\n",
      "20660/20660 - 12s - loss: 0.6931 - Accuracy_epochs: 0.7536 - val_loss: 0.6953 - val_Accuracy_epochs: 0.7529 - 12s/epoch - 596us/step\n",
      "Epoch 4/5\n",
      "20660/20660 - 12s - loss: 0.6924 - Accuracy_epochs: 0.7537 - val_loss: 0.6954 - val_Accuracy_epochs: 0.7529 - 12s/epoch - 601us/step\n",
      "Epoch 5/5\n",
      "20660/20660 - 12s - loss: 0.6919 - Accuracy_epochs: 0.7538 - val_loss: 0.7026 - val_Accuracy_epochs: 0.7530 - 12s/epoch - 595us/step\n",
      "Epoch 1/5\n",
      "20660/20660 - 12s - loss: 0.6932 - Accuracy_epochs: 0.7531 - val_loss: 0.6865 - val_Accuracy_epochs: 0.7532 - 12s/epoch - 593us/step\n",
      "Epoch 2/5\n",
      "20660/20660 - 12s - loss: 0.6928 - Accuracy_epochs: 0.7533 - val_loss: 0.6868 - val_Accuracy_epochs: 0.7558 - 12s/epoch - 591us/step\n",
      "Epoch 3/5\n",
      "20660/20660 - 12s - loss: 0.6925 - Accuracy_epochs: 0.7533 - val_loss: 0.6863 - val_Accuracy_epochs: 0.7530 - 12s/epoch - 588us/step\n",
      "Epoch 4/5\n",
      "20660/20660 - 12s - loss: 0.6922 - Accuracy_epochs: 0.7533 - val_loss: 0.6894 - val_Accuracy_epochs: 0.7535 - 12s/epoch - 603us/step\n",
      "Epoch 5/5\n",
      "20660/20660 - 13s - loss: 0.6918 - Accuracy_epochs: 0.7534 - val_loss: 0.6870 - val_Accuracy_epochs: 0.7561 - 13s/epoch - 612us/step\n",
      "Epoch 1/5\n",
      "20660/20660 - 13s - loss: 0.6913 - Accuracy_epochs: 0.7537 - val_loss: 0.6867 - val_Accuracy_epochs: 0.7548 - 13s/epoch - 616us/step\n",
      "Epoch 2/5\n",
      "20660/20660 - 13s - loss: 0.6911 - Accuracy_epochs: 0.7537 - val_loss: 0.6880 - val_Accuracy_epochs: 0.7552 - 13s/epoch - 606us/step\n",
      "Epoch 3/5\n",
      "20660/20660 - 13s - loss: 0.6910 - Accuracy_epochs: 0.7537 - val_loss: 0.6864 - val_Accuracy_epochs: 0.7552 - 13s/epoch - 606us/step\n",
      "Epoch 4/5\n",
      "20660/20660 - 12s - loss: 0.6908 - Accuracy_epochs: 0.7538 - val_loss: 0.6859 - val_Accuracy_epochs: 0.7552 - 12s/epoch - 600us/step\n",
      "Epoch 5/5\n",
      "20660/20660 - 13s - loss: 0.6904 - Accuracy_epochs: 0.7538 - val_loss: 0.6887 - val_Accuracy_epochs: 0.7552 - 13s/epoch - 613us/step\n",
      "Epoch 1/5\n",
      "20660/20660 - 13s - loss: 0.6891 - Accuracy_epochs: 0.7546 - val_loss: 0.6956 - val_Accuracy_epochs: 0.7522 - 13s/epoch - 606us/step\n",
      "Epoch 2/5\n",
      "20660/20660 - 12s - loss: 0.6889 - Accuracy_epochs: 0.7546 - val_loss: 0.7035 - val_Accuracy_epochs: 0.7482 - 12s/epoch - 599us/step\n",
      "Epoch 3/5\n",
      "20660/20660 - 12s - loss: 0.6888 - Accuracy_epochs: 0.7546 - val_loss: 0.6935 - val_Accuracy_epochs: 0.7522 - 12s/epoch - 597us/step\n",
      "Epoch 4/5\n",
      "20660/20660 - 12s - loss: 0.6886 - Accuracy_epochs: 0.7546 - val_loss: 0.6910 - val_Accuracy_epochs: 0.7522 - 12s/epoch - 602us/step\n",
      "Epoch 5/5\n",
      "20660/20660 - 12s - loss: 0.6885 - Accuracy_epochs: 0.7547 - val_loss: 0.6906 - val_Accuracy_epochs: 0.7519 - 12s/epoch - 601us/step\n",
      "--- Trial 5: -WIDTH30-DEPTH1-adam\n",
      "{'NN_width': 30, 'NN_depth': 1, 'optimizer': 'adam'}\n",
      "Epoch 1/5\n",
      "20660/20660 - 13s - loss: 0.7057 - Accuracy_epochs: 0.7501 - val_loss: 0.6915 - val_Accuracy_epochs: 0.7539 - 13s/epoch - 637us/step\n",
      "Epoch 2/5\n",
      "20660/20660 - 13s - loss: 0.6910 - Accuracy_epochs: 0.7534 - val_loss: 0.6878 - val_Accuracy_epochs: 0.7552 - 13s/epoch - 628us/step\n",
      "Epoch 3/5\n",
      "20660/20660 - 13s - loss: 0.6882 - Accuracy_epochs: 0.7542 - val_loss: 0.6867 - val_Accuracy_epochs: 0.7551 - 13s/epoch - 628us/step\n"
     ]
    },
    {
     "name": "stdout",
     "output_type": "stream",
     "text": [
      "Epoch 4/5\n",
      "20660/20660 - 13s - loss: 0.6867 - Accuracy_epochs: 0.7543 - val_loss: 0.6843 - val_Accuracy_epochs: 0.7552 - 13s/epoch - 629us/step\n",
      "Epoch 5/5\n",
      "20660/20660 - 13s - loss: 0.6855 - Accuracy_epochs: 0.7546 - val_loss: 0.6828 - val_Accuracy_epochs: 0.7548 - 13s/epoch - 622us/step\n",
      "Epoch 1/5\n",
      "20660/20660 - 13s - loss: 0.6835 - Accuracy_epochs: 0.7551 - val_loss: 0.6869 - val_Accuracy_epochs: 0.7541 - 13s/epoch - 630us/step\n",
      "Epoch 2/5\n",
      "20660/20660 - 13s - loss: 0.6824 - Accuracy_epochs: 0.7554 - val_loss: 0.6858 - val_Accuracy_epochs: 0.7537 - 13s/epoch - 631us/step\n",
      "Epoch 3/5\n",
      "20660/20660 - 13s - loss: 0.6813 - Accuracy_epochs: 0.7555 - val_loss: 0.6834 - val_Accuracy_epochs: 0.7540 - 13s/epoch - 637us/step\n",
      "Epoch 4/5\n",
      "20660/20660 - 13s - loss: 0.6801 - Accuracy_epochs: 0.7557 - val_loss: 0.6850 - val_Accuracy_epochs: 0.7544 - 13s/epoch - 626us/step\n",
      "Epoch 5/5\n",
      "20660/20660 - 13s - loss: 0.6786 - Accuracy_epochs: 0.7560 - val_loss: 0.6979 - val_Accuracy_epochs: 0.7546 - 13s/epoch - 637us/step\n",
      "Epoch 1/5\n",
      "20660/20660 - 13s - loss: 0.6789 - Accuracy_epochs: 0.7555 - val_loss: 0.6722 - val_Accuracy_epochs: 0.7581 - 13s/epoch - 634us/step\n",
      "Epoch 2/5\n",
      "20660/20660 - 13s - loss: 0.6773 - Accuracy_epochs: 0.7560 - val_loss: 0.6717 - val_Accuracy_epochs: 0.7577 - 13s/epoch - 635us/step\n",
      "Epoch 3/5\n",
      "20660/20660 - 13s - loss: 0.6757 - Accuracy_epochs: 0.7564 - val_loss: 0.6702 - val_Accuracy_epochs: 0.7610 - 13s/epoch - 636us/step\n",
      "Epoch 4/5\n",
      "20660/20660 - 13s - loss: 0.6743 - Accuracy_epochs: 0.7571 - val_loss: 0.6682 - val_Accuracy_epochs: 0.7609 - 13s/epoch - 634us/step\n",
      "Epoch 5/5\n",
      "20660/20660 - 13s - loss: 0.6727 - Accuracy_epochs: 0.7579 - val_loss: 0.6657 - val_Accuracy_epochs: 0.7611 - 13s/epoch - 630us/step\n",
      "Epoch 1/5\n",
      "20660/20660 - 13s - loss: 0.6706 - Accuracy_epochs: 0.7590 - val_loss: 0.6666 - val_Accuracy_epochs: 0.7610 - 13s/epoch - 638us/step\n",
      "Epoch 2/5\n",
      "20660/20660 - 13s - loss: 0.6694 - Accuracy_epochs: 0.7596 - val_loss: 0.6653 - val_Accuracy_epochs: 0.7614 - 13s/epoch - 637us/step\n",
      "Epoch 3/5\n",
      "20660/20660 - 13s - loss: 0.6682 - Accuracy_epochs: 0.7602 - val_loss: 0.6660 - val_Accuracy_epochs: 0.7596 - 13s/epoch - 632us/step\n",
      "Epoch 4/5\n",
      "20660/20660 - 13s - loss: 0.6674 - Accuracy_epochs: 0.7606 - val_loss: 0.6644 - val_Accuracy_epochs: 0.7624 - 13s/epoch - 638us/step\n",
      "Epoch 5/5\n",
      "20660/20660 - 13s - loss: 0.6666 - Accuracy_epochs: 0.7609 - val_loss: 0.6636 - val_Accuracy_epochs: 0.7619 - 13s/epoch - 631us/step\n",
      "Epoch 1/5\n",
      "20660/20660 - 13s - loss: 0.6651 - Accuracy_epochs: 0.7618 - val_loss: 0.6666 - val_Accuracy_epochs: 0.7605 - 13s/epoch - 640us/step\n",
      "Epoch 2/5\n",
      "20660/20660 - 13s - loss: 0.6646 - Accuracy_epochs: 0.7619 - val_loss: 0.6721 - val_Accuracy_epochs: 0.7558 - 13s/epoch - 635us/step\n",
      "Epoch 3/5\n",
      "20660/20660 - 13s - loss: 0.6641 - Accuracy_epochs: 0.7620 - val_loss: 0.6653 - val_Accuracy_epochs: 0.7599 - 13s/epoch - 638us/step\n",
      "Epoch 4/5\n",
      "20660/20660 - 13s - loss: 0.6638 - Accuracy_epochs: 0.7621 - val_loss: 0.6662 - val_Accuracy_epochs: 0.7600 - 13s/epoch - 641us/step\n",
      "Epoch 5/5\n",
      "20660/20660 - 13s - loss: 0.6635 - Accuracy_epochs: 0.7621 - val_loss: 0.6701 - val_Accuracy_epochs: 0.7603 - 13s/epoch - 633us/step\n",
      "Best model updated...\n",
      "--- Trial 6: -WIDTH30-DEPTH1-sgd\n",
      "{'NN_width': 30, 'NN_depth': 1, 'optimizer': 'sgd'}\n",
      "Epoch 1/5\n",
      "20660/20660 - 12s - loss: 0.7304 - Accuracy_epochs: 0.7459 - val_loss: 0.7143 - val_Accuracy_epochs: 0.7504 - 12s/epoch - 584us/step\n",
      "Epoch 2/5\n",
      "20660/20660 - 12s - loss: 0.7092 - Accuracy_epochs: 0.7503 - val_loss: 0.7062 - val_Accuracy_epochs: 0.7523 - 12s/epoch - 563us/step\n",
      "Epoch 3/5\n",
      "20660/20660 - 12s - loss: 0.7049 - Accuracy_epochs: 0.7511 - val_loss: 0.7014 - val_Accuracy_epochs: 0.7524 - 12s/epoch - 572us/step\n",
      "Epoch 4/5\n",
      "20660/20660 - 12s - loss: 0.7026 - Accuracy_epochs: 0.7517 - val_loss: 0.7115 - val_Accuracy_epochs: 0.7490 - 12s/epoch - 574us/step\n",
      "Epoch 5/5\n",
      "20660/20660 - 12s - loss: 0.7009 - Accuracy_epochs: 0.7520 - val_loss: 0.6985 - val_Accuracy_epochs: 0.7531 - 12s/epoch - 572us/step\n",
      "Epoch 1/5\n",
      "20660/20660 - 12s - loss: 0.6987 - Accuracy_epochs: 0.7529 - val_loss: 0.7074 - val_Accuracy_epochs: 0.7521 - 12s/epoch - 569us/step\n",
      "Epoch 2/5\n",
      "20660/20660 - 12s - loss: 0.6978 - Accuracy_epochs: 0.7529 - val_loss: 0.6999 - val_Accuracy_epochs: 0.7492 - 12s/epoch - 574us/step\n",
      "Epoch 3/5\n",
      "20660/20660 - 12s - loss: 0.6969 - Accuracy_epochs: 0.7534 - val_loss: 0.7042 - val_Accuracy_epochs: 0.7488 - 12s/epoch - 570us/step\n",
      "Epoch 4/5\n",
      "20660/20660 - 12s - loss: 0.6962 - Accuracy_epochs: 0.7535 - val_loss: 0.6991 - val_Accuracy_epochs: 0.7525 - 12s/epoch - 570us/step\n",
      "Epoch 5/5\n",
      "20660/20660 - 12s - loss: 0.6955 - Accuracy_epochs: 0.7535 - val_loss: 0.7010 - val_Accuracy_epochs: 0.7525 - 12s/epoch - 578us/step\n",
      "Epoch 1/5\n",
      "20660/20660 - 12s - loss: 0.6967 - Accuracy_epochs: 0.7526 - val_loss: 0.6924 - val_Accuracy_epochs: 0.7556 - 12s/epoch - 585us/step\n",
      "Epoch 2/5\n",
      "20660/20660 - 12s - loss: 0.6962 - Accuracy_epochs: 0.7528 - val_loss: 0.6909 - val_Accuracy_epochs: 0.7499 - 12s/epoch - 584us/step\n",
      "Epoch 3/5\n",
      "20660/20660 - 12s - loss: 0.6958 - Accuracy_epochs: 0.7528 - val_loss: 0.6911 - val_Accuracy_epochs: 0.7556 - 12s/epoch - 584us/step\n",
      "Epoch 4/5\n",
      "20660/20660 - 12s - loss: 0.6953 - Accuracy_epochs: 0.7528 - val_loss: 0.6917 - val_Accuracy_epochs: 0.7556 - 12s/epoch - 576us/step\n",
      "Epoch 5/5\n",
      "20660/20660 - 12s - loss: 0.6950 - Accuracy_epochs: 0.7529 - val_loss: 0.6883 - val_Accuracy_epochs: 0.7559 - 12s/epoch - 582us/step\n",
      "Epoch 1/5\n",
      "20660/20660 - 12s - loss: 0.6943 - Accuracy_epochs: 0.7531 - val_loss: 0.6907 - val_Accuracy_epochs: 0.7546 - 12s/epoch - 583us/step\n",
      "Epoch 2/5\n",
      "20660/20660 - 12s - loss: 0.6939 - Accuracy_epochs: 0.7531 - val_loss: 0.6899 - val_Accuracy_epochs: 0.7546 - 12s/epoch - 585us/step\n",
      "Epoch 3/5\n",
      "20660/20660 - 12s - loss: 0.6937 - Accuracy_epochs: 0.7532 - val_loss: 0.6903 - val_Accuracy_epochs: 0.7546 - 12s/epoch - 576us/step\n",
      "Epoch 4/5\n",
      "20660/20660 - 12s - loss: 0.6935 - Accuracy_epochs: 0.7531 - val_loss: 0.6894 - val_Accuracy_epochs: 0.7546 - 12s/epoch - 581us/step\n",
      "Epoch 5/5\n",
      "20660/20660 - 12s - loss: 0.6932 - Accuracy_epochs: 0.7532 - val_loss: 0.6892 - val_Accuracy_epochs: 0.7546 - 12s/epoch - 572us/step\n",
      "Epoch 1/5\n",
      "20660/20660 - 12s - loss: 0.6917 - Accuracy_epochs: 0.7539 - val_loss: 0.6954 - val_Accuracy_epochs: 0.7517 - 12s/epoch - 587us/step\n",
      "Epoch 2/5\n",
      "20660/20660 - 12s - loss: 0.6915 - Accuracy_epochs: 0.7539 - val_loss: 0.6939 - val_Accuracy_epochs: 0.7520 - 12s/epoch - 584us/step\n",
      "Epoch 3/5\n",
      "20660/20660 - 12s - loss: 0.6913 - Accuracy_epochs: 0.7540 - val_loss: 0.6950 - val_Accuracy_epochs: 0.7517 - 12s/epoch - 587us/step\n",
      "Epoch 4/5\n",
      "20660/20660 - 12s - loss: 0.6910 - Accuracy_epochs: 0.7540 - val_loss: 0.6943 - val_Accuracy_epochs: 0.7520 - 12s/epoch - 577us/step\n",
      "Epoch 5/5\n",
      "20660/20660 - 12s - loss: 0.6908 - Accuracy_epochs: 0.7541 - val_loss: 0.6948 - val_Accuracy_epochs: 0.7520 - 12s/epoch - 580us/step\n",
      "--- Trial 7: -WIDTH30-DEPTH2-adam\n",
      "{'NN_width': 30, 'NN_depth': 2, 'optimizer': 'adam'}\n",
      "Epoch 1/5\n",
      "20660/20660 - 14s - loss: 0.7023 - Accuracy_epochs: 0.7513 - val_loss: 0.6912 - val_Accuracy_epochs: 0.7543 - 14s/epoch - 654us/step\n",
      "Epoch 2/5\n",
      "20660/20660 - 13s - loss: 0.6884 - Accuracy_epochs: 0.7545 - val_loss: 0.6862 - val_Accuracy_epochs: 0.7552 - 13s/epoch - 637us/step\n",
      "Epoch 3/5\n",
      "20660/20660 - 13s - loss: 0.6855 - Accuracy_epochs: 0.7547 - val_loss: 0.6838 - val_Accuracy_epochs: 0.7552 - 13s/epoch - 642us/step\n",
      "Epoch 4/5\n",
      "20660/20660 - 13s - loss: 0.6839 - Accuracy_epochs: 0.7549 - val_loss: 0.6834 - val_Accuracy_epochs: 0.7549 - 13s/epoch - 645us/step\n",
      "Epoch 5/5\n",
      "20660/20660 - 13s - loss: 0.6816 - Accuracy_epochs: 0.7552 - val_loss: 0.6802 - val_Accuracy_epochs: 0.7557 - 13s/epoch - 645us/step\n",
      "Epoch 1/5\n",
      "20660/20660 - 13s - loss: 0.6793 - Accuracy_epochs: 0.7557 - val_loss: 0.6824 - val_Accuracy_epochs: 0.7545 - 13s/epoch - 653us/step\n",
      "Epoch 2/5\n",
      "20660/20660 - 14s - loss: 0.6784 - Accuracy_epochs: 0.7558 - val_loss: 0.6810 - val_Accuracy_epochs: 0.7545 - 14s/epoch - 659us/step\n",
      "Epoch 3/5\n",
      "20660/20660 - 14s - loss: 0.6772 - Accuracy_epochs: 0.7563 - val_loss: 0.6772 - val_Accuracy_epochs: 0.7600 - 14s/epoch - 663us/step\n",
      "Epoch 4/5\n",
      "20660/20660 - 14s - loss: 0.6732 - Accuracy_epochs: 0.7589 - val_loss: 0.6759 - val_Accuracy_epochs: 0.7565 - 14s/epoch - 662us/step\n"
     ]
    },
    {
     "name": "stdout",
     "output_type": "stream",
     "text": [
      "Epoch 5/5\n",
      "20660/20660 - 14s - loss: 0.6655 - Accuracy_epochs: 0.7639 - val_loss: 0.6610 - val_Accuracy_epochs: 0.7635 - 14s/epoch - 659us/step\n",
      "Epoch 1/5\n",
      "INFO:tensorflow:Assets written to: mqtt_NN/model1\\cv_model.ckpt\\assets\n",
      "20660/20660 - 14s - loss: 0.6603 - Accuracy_epochs: 0.7664 - val_loss: 0.6532 - val_Accuracy_epochs: 0.7682 - 14s/epoch - 676us/step\n",
      "Epoch 2/5\n",
      "INFO:tensorflow:Assets written to: mqtt_NN/model1\\cv_model.ckpt\\assets\n",
      "20660/20660 - 14s - loss: 0.6555 - Accuracy_epochs: 0.7683 - val_loss: 0.6445 - val_Accuracy_epochs: 0.7748 - 14s/epoch - 674us/step\n",
      "Epoch 3/5\n",
      "20660/20660 - 14s - loss: 0.6522 - Accuracy_epochs: 0.7694 - val_loss: 0.6553 - val_Accuracy_epochs: 0.7728 - 14s/epoch - 666us/step\n",
      "Epoch 4/5\n",
      "20660/20660 - 14s - loss: 0.6497 - Accuracy_epochs: 0.7700 - val_loss: 0.6933 - val_Accuracy_epochs: 0.7619 - 14s/epoch - 667us/step\n",
      "Epoch 5/5\n",
      "20660/20660 - 14s - loss: 0.6496 - Accuracy_epochs: 0.7701 - val_loss: 0.6510 - val_Accuracy_epochs: 0.7748 - 14s/epoch - 663us/step\n",
      "Epoch 1/5\n",
      "INFO:tensorflow:Assets written to: mqtt_NN/model1\\cv_model.ckpt\\assets\n",
      "20660/20660 - 14s - loss: 0.6485 - Accuracy_epochs: 0.7702 - val_loss: 0.6416 - val_Accuracy_epochs: 0.7725 - 14s/epoch - 689us/step\n",
      "Epoch 2/5\n",
      "20660/20660 - 14s - loss: 0.6479 - Accuracy_epochs: 0.7706 - val_loss: 0.6697 - val_Accuracy_epochs: 0.7675 - 14s/epoch - 672us/step\n",
      "Epoch 3/5\n",
      "INFO:tensorflow:Assets written to: mqtt_NN/model1\\cv_model.ckpt\\assets\n",
      "20660/20660 - 14s - loss: 0.6485 - Accuracy_epochs: 0.7705 - val_loss: 0.6401 - val_Accuracy_epochs: 0.7724 - 14s/epoch - 683us/step\n",
      "Epoch 4/5\n",
      "20660/20660 - 14s - loss: 0.6478 - Accuracy_epochs: 0.7706 - val_loss: 0.6413 - val_Accuracy_epochs: 0.7732 - 14s/epoch - 659us/step\n",
      "Epoch 5/5\n",
      "20660/20660 - 14s - loss: 0.6468 - Accuracy_epochs: 0.7708 - val_loss: 0.6733 - val_Accuracy_epochs: 0.7668 - 14s/epoch - 662us/step\n",
      "Epoch 1/5\n",
      "20660/20660 - 14s - loss: 0.6468 - Accuracy_epochs: 0.7715 - val_loss: 0.6437 - val_Accuracy_epochs: 0.7714 - 14s/epoch - 672us/step\n",
      "Epoch 2/5\n",
      "20660/20660 - 14s - loss: 0.6463 - Accuracy_epochs: 0.7714 - val_loss: 0.6593 - val_Accuracy_epochs: 0.7643 - 14s/epoch - 665us/step\n",
      "Epoch 3/5\n",
      "20660/20660 - 14s - loss: 0.6451 - Accuracy_epochs: 0.7717 - val_loss: 0.6429 - val_Accuracy_epochs: 0.7694 - 14s/epoch - 670us/step\n",
      "Epoch 4/5\n",
      "20660/20660 - 14s - loss: 0.6468 - Accuracy_epochs: 0.7716 - val_loss: 0.6434 - val_Accuracy_epochs: 0.7709 - 14s/epoch - 677us/step\n",
      "Epoch 5/5\n",
      "20660/20660 - 16s - loss: 0.6440 - Accuracy_epochs: 0.7727 - val_loss: 0.6474 - val_Accuracy_epochs: 0.7701 - 16s/epoch - 785us/step\n",
      "Best model updated...\n",
      "--- Trial 8: -WIDTH30-DEPTH2-sgd\n",
      "{'NN_width': 30, 'NN_depth': 2, 'optimizer': 'sgd'}\n",
      "Epoch 1/5\n",
      "20660/20660 - 15s - loss: 0.7245 - Accuracy_epochs: 0.7473 - val_loss: 0.7048 - val_Accuracy_epochs: 0.7522 - 15s/epoch - 747us/step\n",
      "Epoch 2/5\n",
      "20660/20660 - 14s - loss: 0.7046 - Accuracy_epochs: 0.7516 - val_loss: 0.7040 - val_Accuracy_epochs: 0.7531 - 14s/epoch - 692us/step\n",
      "Epoch 3/5\n",
      "20660/20660 - 14s - loss: 0.6996 - Accuracy_epochs: 0.7524 - val_loss: 0.6975 - val_Accuracy_epochs: 0.7532 - 14s/epoch - 665us/step\n",
      "Epoch 4/5\n",
      "20660/20660 - 14s - loss: 0.6970 - Accuracy_epochs: 0.7528 - val_loss: 0.6944 - val_Accuracy_epochs: 0.7509 - 14s/epoch - 687us/step\n",
      "Epoch 5/5\n",
      "20660/20660 - 14s - loss: 0.6955 - Accuracy_epochs: 0.7531 - val_loss: 0.6992 - val_Accuracy_epochs: 0.7542 - 14s/epoch - 670us/step\n",
      "Epoch 1/5\n",
      "20660/20660 - 14s - loss: 0.6937 - Accuracy_epochs: 0.7537 - val_loss: 0.6963 - val_Accuracy_epochs: 0.7467 - 14s/epoch - 678us/step\n",
      "Epoch 2/5\n",
      "20660/20660 - 14s - loss: 0.6929 - Accuracy_epochs: 0.7538 - val_loss: 0.6949 - val_Accuracy_epochs: 0.7529 - 14s/epoch - 683us/step\n",
      "Epoch 3/5\n",
      "20660/20660 - 14s - loss: 0.6921 - Accuracy_epochs: 0.7539 - val_loss: 0.6956 - val_Accuracy_epochs: 0.7528 - 14s/epoch - 688us/step\n",
      "Epoch 4/5\n",
      "20660/20660 - 14s - loss: 0.6916 - Accuracy_epochs: 0.7541 - val_loss: 0.6933 - val_Accuracy_epochs: 0.7528 - 14s/epoch - 656us/step\n",
      "Epoch 5/5\n",
      "20660/20660 - 14s - loss: 0.6910 - Accuracy_epochs: 0.7542 - val_loss: 0.6949 - val_Accuracy_epochs: 0.7528 - 14s/epoch - 661us/step\n",
      "Epoch 1/5\n",
      "20660/20660 - 14s - loss: 0.6922 - Accuracy_epochs: 0.7535 - val_loss: 0.6870 - val_Accuracy_epochs: 0.7561 - 14s/epoch - 667us/step\n",
      "Epoch 2/5\n",
      "20660/20660 - 14s - loss: 0.6918 - Accuracy_epochs: 0.7535 - val_loss: 0.6851 - val_Accuracy_epochs: 0.7561 - 14s/epoch - 665us/step\n",
      "Epoch 3/5\n",
      "20660/20660 - 14s - loss: 0.6915 - Accuracy_epochs: 0.7536 - val_loss: 0.6856 - val_Accuracy_epochs: 0.7558 - 14s/epoch - 658us/step\n",
      "Epoch 4/5\n",
      "20660/20660 - 14s - loss: 0.6913 - Accuracy_epochs: 0.7535 - val_loss: 0.6846 - val_Accuracy_epochs: 0.7564 - 14s/epoch - 665us/step\n",
      "Epoch 5/5\n",
      "20660/20660 - 14s - loss: 0.6910 - Accuracy_epochs: 0.7536 - val_loss: 0.6860 - val_Accuracy_epochs: 0.7561 - 14s/epoch - 658us/step\n",
      "Epoch 1/5\n",
      "20660/20660 - 13s - loss: 0.6905 - Accuracy_epochs: 0.7539 - val_loss: 0.6862 - val_Accuracy_epochs: 0.7552 - 13s/epoch - 627us/step\n",
      "Epoch 2/5\n",
      "20660/20660 - 13s - loss: 0.6901 - Accuracy_epochs: 0.7539 - val_loss: 0.6851 - val_Accuracy_epochs: 0.7552 - 13s/epoch - 617us/step\n",
      "Epoch 3/5\n",
      "20660/20660 - 13s - loss: 0.6900 - Accuracy_epochs: 0.7539 - val_loss: 0.6866 - val_Accuracy_epochs: 0.7552 - 13s/epoch - 633us/step\n",
      "Epoch 4/5\n",
      "20660/20660 - 13s - loss: 0.6900 - Accuracy_epochs: 0.7539 - val_loss: 0.6869 - val_Accuracy_epochs: 0.7552 - 13s/epoch - 625us/step\n",
      "Epoch 5/5\n",
      "20660/20660 - 13s - loss: 0.6899 - Accuracy_epochs: 0.7539 - val_loss: 0.6860 - val_Accuracy_epochs: 0.7552 - 13s/epoch - 629us/step\n",
      "Epoch 1/5\n",
      "20660/20660 - 14s - loss: 0.6884 - Accuracy_epochs: 0.7547 - val_loss: 0.6944 - val_Accuracy_epochs: 0.7525 - 14s/epoch - 669us/step\n",
      "Epoch 2/5\n",
      "20660/20660 - 13s - loss: 0.6882 - Accuracy_epochs: 0.7547 - val_loss: 0.6903 - val_Accuracy_epochs: 0.7525 - 13s/epoch - 649us/step\n",
      "Epoch 3/5\n",
      "20660/20660 - 13s - loss: 0.6880 - Accuracy_epochs: 0.7548 - val_loss: 0.6898 - val_Accuracy_epochs: 0.7522 - 13s/epoch - 651us/step\n",
      "Epoch 4/5\n",
      "20660/20660 - 13s - loss: 0.6879 - Accuracy_epochs: 0.7547 - val_loss: 0.7080 - val_Accuracy_epochs: 0.7526 - 13s/epoch - 638us/step\n",
      "Epoch 5/5\n",
      "20660/20660 - 13s - loss: 0.6876 - Accuracy_epochs: 0.7548 - val_loss: 0.6893 - val_Accuracy_epochs: 0.7522 - 13s/epoch - 631us/step\n"
     ]
    }
   ],
   "source": [
    "# train loop\n",
    "N = 0\n",
    "logdir = \"mqtt_NN/model1/hp_tuning/\"\n",
    "accuracies=[]\n",
    "current_best_accuracy=0.0\n",
    "\n",
    "for width in HP_WIDTH.domain.values:\n",
    "    for depth in HP_DEPTH.domain.values:\n",
    "        for optim in HP_OPTIMIZER.domain.values:\n",
    "\n",
    "            hparams = {\n",
    "                HP_WIDTH: width,\n",
    "                HP_DEPTH: depth,\n",
    "                HP_OPTIMIZER: optim\n",
    "                }\n",
    "\n",
    "            run_name = f\"-WIDTH{int(hparams[HP_WIDTH])}-DEPTH{hparams[HP_DEPTH]}-{hparams[HP_OPTIMIZER]}\"\n",
    "            run_dir = logdir + run_name\n",
    "            \n",
    "            print(f'--- Trial {N+1}: {run_name}')\n",
    "            print({h.name: hparams[h] for h in hparams})\n",
    "        \n",
    "            model = compile_model (hparams)\n",
    "            accuracy = cv(model, hparams, ksets)\n",
    "            accuracies.append (accuracy)\n",
    "            \n",
    "            \n",
    "            # Best model save\n",
    "            if accuracies[-1] > current_best_accuracy:\n",
    "                print(\"Best model updated...\")\n",
    "                best_model1 = model\n",
    "                current_best_accuracy = accuracies[-1]\n",
    "                \n",
    "            with tf.summary.create_file_writer(run_dir).as_default():\n",
    "                hp.hparams(hparams)\n",
    "                tf.summary.scalar(\"Accuracy\", accuracy, step=1)\n",
    "            \n",
    "            N += 1\n",
    "\n",
    "best_model1.save (\"best_model1.h5\")"
   ]
  },
  {
   "cell_type": "code",
   "execution_count": 58,
   "id": "4ab7ae0a",
   "metadata": {},
   "outputs": [
    {
     "name": "stdout",
     "output_type": "stream",
     "text": [
      "4554/4554 - 2s - loss: 0.6420 - Accuracy_epochs: 0.7738 - 2s/epoch - 468us/step\n",
      "\n",
      "- Model 1\n",
      "Model: \"sequential_39\"\n",
      "_________________________________________________________________\n",
      " Layer (type)                Output Shape              Param #   \n",
      "=================================================================\n",
      " dense_92 (Dense)            (None, 30)                1200      \n",
      "                                                                 \n",
      " dense_93 (Dense)            (None, 30)                930       \n",
      "                                                                 \n",
      " dense_94 (Dense)            (None, 6)                 186       \n",
      "                                                                 \n",
      "=================================================================\n",
      "Total params: 2,316\n",
      "Trainable params: 2,316\n",
      "Non-trainable params: 0\n",
      "_________________________________________________________________\n",
      "Test loss: 0.6420\n",
      "Test accuracy: 77.3776 %\n"
     ]
    }
   ],
   "source": [
    "test_loss, test_acc = best_model1.evaluate (x_test, y_test, verbose=2)\n",
    "\n",
    "print (\"\\n- Best Model 1\")\n",
    "best_model1.summary()\n",
    "print (f'Test loss: {test_loss:1.4f}')\n",
    "print (f\"Test accuracy: {test_acc*100:1.4f} %\")\n"
   ]
  },
  {
   "cell_type": "markdown",
   "id": "f27292a4",
   "metadata": {},
   "source": [
    "---"
   ]
  },
  {
   "cell_type": "markdown",
   "id": "fdd1c0af",
   "metadata": {},
   "source": [
    "### Model 2\n",
    "\n",
    "Fixed Layers: [39, 60, 60, 6]\n",
    "- 39 input nodes, 6 output nodes, two hidden layers with 60 nodes each\n",
    "\n",
    "\\\n",
    "**Hyperparameters:**\n",
    "- Activation function\n",
    "- Learning rate"
   ]
  },
  {
   "cell_type": "code",
   "execution_count": 59,
   "id": "e80f789f",
   "metadata": {},
   "outputs": [],
   "source": [
    "HP_actf = hp.HParam ('activation', hp.Discrete (['relu','sigmoid']))#, 'tanh']))\n",
    "HP_lr = hp.HParam ('learning_rate', hp.Discrete([0.01])) #, 0.1, 1.0)))\n",
    "\n",
    "# callback / path\n",
    "checkpoint_path = \"mqtt_NN/model2/cv_model.ckpt\"\n",
    "checkpoint_callback = tf.keras.callbacks.ModelCheckpoint(filepath = checkpoint_path,\n",
    "                                                         verbose=0,\n",
    "                                                         save_best_only=True)\n",
    "\n",
    "model_callbacks = [checkpoint_callback]\n",
    "\n",
    "def compile_model2 (hparams):\n",
    "\n",
    "    input_dim = x_train.shape[1]\n",
    "    output_dim = tf.unique (y_train)[0].shape[0]\n",
    "\n",
    "\n",
    "    model2 = keras.Sequential( [keras.layers.Dense (input_dim, activation=hparams[HP_actf]),\n",
    "                                keras.layers.Dense(60, activation=hparams[HP_actf]),\n",
    "                                keras.layers.Dense(60, activation=hparams[HP_actf]),\n",
    "                                keras.layers.Dense(output_dim)] )\n",
    "    \n",
    "    optimizer = keras.optimizers.SGD (learning_rate = hparams[HP_lr])\n",
    "    \n",
    "    model2.compile(optimizer = optimizer,\n",
    "                   loss=keras.losses.SparseCategoricalCrossentropy(from_logits=True),\n",
    "                   metrics=[keras.metrics.SparseCategoricalAccuracy(name=\"Accuracy_epochs\")])\n",
    "\n",
    "    return model2\n",
    "\n",
    "def cv(model, hparams, ksets):\n",
    "    k = len(ksets)\n",
    "    accuracy = 0.0\n",
    "    \n",
    "    for sets in ksets:\n",
    "\n",
    "        history = model.fit(sets[0], sets[1], epochs=5, verbose = 2,\n",
    "                            validation_data = (sets[2], sets[3]),\n",
    "                            callbacks=model_callbacks)\n",
    "\n",
    "    accuracy += np.max (history.history[\"val_Accuracy_epochs\"])\n",
    "    return accuracy/k"
   ]
  },
  {
   "cell_type": "code",
   "execution_count": 60,
   "id": "8a38f0fa",
   "metadata": {
    "scrolled": false
   },
   "outputs": [
    {
     "name": "stdout",
     "output_type": "stream",
     "text": [
      "--- Trial 1: Model2 HP tuning\n",
      "{'activation': 'relu', 'learning_rate': 0.01}\n",
      "Epoch 1/5\n",
      "INFO:tensorflow:Assets written to: mqtt_NN/model2\\cv_model.ckpt\\assets\n",
      "20660/20660 - 16s - loss: 0.7224 - Accuracy_epochs: 0.7476 - val_loss: 0.7030 - val_Accuracy_epochs: 0.7526 - 16s/epoch - 787us/step\n",
      "Epoch 2/5\n",
      "INFO:tensorflow:Assets written to: mqtt_NN/model2\\cv_model.ckpt\\assets\n",
      "20660/20660 - 15s - loss: 0.7007 - Accuracy_epochs: 0.7514 - val_loss: 0.6976 - val_Accuracy_epochs: 0.7529 - 15s/epoch - 721us/step\n",
      "Epoch 3/5\n",
      "20660/20660 - 14s - loss: 0.6976 - Accuracy_epochs: 0.7521 - val_loss: 0.6980 - val_Accuracy_epochs: 0.7472 - 14s/epoch - 694us/step\n",
      "Epoch 4/5\n",
      "INFO:tensorflow:Assets written to: mqtt_NN/model2\\cv_model.ckpt\\assets\n",
      "20660/20660 - 15s - loss: 0.6956 - Accuracy_epochs: 0.7530 - val_loss: 0.6929 - val_Accuracy_epochs: 0.7511 - 15s/epoch - 711us/step\n",
      "Epoch 5/5\n",
      "20660/20660 - 14s - loss: 0.6943 - Accuracy_epochs: 0.7533 - val_loss: 0.6936 - val_Accuracy_epochs: 0.7544 - 14s/epoch - 693us/step\n",
      "Epoch 1/5\n",
      "20660/20660 - 15s - loss: 0.6926 - Accuracy_epochs: 0.7538 - val_loss: 0.6952 - val_Accuracy_epochs: 0.7470 - 15s/epoch - 732us/step\n",
      "Epoch 2/5\n",
      "20660/20660 - 15s - loss: 0.6918 - Accuracy_epochs: 0.7540 - val_loss: 0.6993 - val_Accuracy_epochs: 0.7531 - 15s/epoch - 707us/step\n",
      "Epoch 3/5\n",
      "20660/20660 - 14s - loss: 0.6912 - Accuracy_epochs: 0.7541 - val_loss: 0.6940 - val_Accuracy_epochs: 0.7529 - 14s/epoch - 698us/step\n",
      "Epoch 4/5\n",
      "20660/20660 - 15s - loss: 0.6909 - Accuracy_epochs: 0.7540 - val_loss: 0.6930 - val_Accuracy_epochs: 0.7531 - 15s/epoch - 717us/step\n",
      "Epoch 5/5\n",
      "20660/20660 - 15s - loss: 0.6904 - Accuracy_epochs: 0.7542 - val_loss: 0.6929 - val_Accuracy_epochs: 0.7531 - 15s/epoch - 703us/step\n",
      "Epoch 1/5\n",
      "INFO:tensorflow:Assets written to: mqtt_NN/model2\\cv_model.ckpt\\assets\n",
      "20660/20660 - 15s - loss: 0.6919 - Accuracy_epochs: 0.7533 - val_loss: 0.6858 - val_Accuracy_epochs: 0.7563 - 15s/epoch - 732us/step\n",
      "Epoch 2/5\n",
      "20660/20660 - 15s - loss: 0.6917 - Accuracy_epochs: 0.7534 - val_loss: 0.6863 - val_Accuracy_epochs: 0.7561 - 15s/epoch - 705us/step\n",
      "Epoch 3/5\n",
      "INFO:tensorflow:Assets written to: mqtt_NN/model2\\cv_model.ckpt\\assets\n",
      "20660/20660 - 16s - loss: 0.6914 - Accuracy_epochs: 0.7534 - val_loss: 0.6840 - val_Accuracy_epochs: 0.7561 - 16s/epoch - 780us/step\n",
      "Epoch 4/5\n",
      "20660/20660 - 15s - loss: 0.6913 - Accuracy_epochs: 0.7535 - val_loss: 0.6858 - val_Accuracy_epochs: 0.7561 - 15s/epoch - 735us/step\n",
      "Epoch 5/5\n",
      "INFO:tensorflow:Assets written to: mqtt_NN/model2\\cv_model.ckpt\\assets\n",
      "20660/20660 - 17s - loss: 0.6909 - Accuracy_epochs: 0.7536 - val_loss: 0.6837 - val_Accuracy_epochs: 0.7565 - 17s/epoch - 812us/step\n",
      "Epoch 1/5\n",
      "20660/20660 - 15s - loss: 0.6904 - Accuracy_epochs: 0.7538 - val_loss: 0.6857 - val_Accuracy_epochs: 0.7552 - 15s/epoch - 727us/step\n",
      "Epoch 2/5\n",
      "20660/20660 - 16s - loss: 0.6904 - Accuracy_epochs: 0.7538 - val_loss: 0.6857 - val_Accuracy_epochs: 0.7552 - 16s/epoch - 784us/step\n",
      "Epoch 3/5\n",
      "20660/20660 - 15s - loss: 0.6900 - Accuracy_epochs: 0.7538 - val_loss: 0.6851 - val_Accuracy_epochs: 0.7554 - 15s/epoch - 712us/step\n",
      "Epoch 4/5\n",
      "20660/20660 - 15s - loss: 0.6899 - Accuracy_epochs: 0.7539 - val_loss: 0.6844 - val_Accuracy_epochs: 0.7552 - 15s/epoch - 710us/step\n",
      "Epoch 5/5\n",
      "20660/20660 - 15s - loss: 0.6897 - Accuracy_epochs: 0.7539 - val_loss: 0.6866 - val_Accuracy_epochs: 0.7554 - 15s/epoch - 715us/step\n",
      "Epoch 1/5\n",
      "20660/20660 - 16s - loss: 0.6882 - Accuracy_epochs: 0.7548 - val_loss: 0.6922 - val_Accuracy_epochs: 0.7522 - 16s/epoch - 767us/step\n",
      "Epoch 2/5\n",
      "20660/20660 - 16s - loss: 0.6879 - Accuracy_epochs: 0.7547 - val_loss: 0.6891 - val_Accuracy_epochs: 0.7525 - 16s/epoch - 760us/step\n",
      "Epoch 3/5\n",
      "20660/20660 - 15s - loss: 0.6878 - Accuracy_epochs: 0.7547 - val_loss: 0.6912 - val_Accuracy_epochs: 0.7521 - 15s/epoch - 718us/step\n",
      "Epoch 4/5\n",
      "20660/20660 - 15s - loss: 0.6876 - Accuracy_epochs: 0.7547 - val_loss: 0.6920 - val_Accuracy_epochs: 0.7522 - 15s/epoch - 727us/step\n",
      "Epoch 5/5\n",
      "20660/20660 - 15s - loss: 0.6875 - Accuracy_epochs: 0.7548 - val_loss: 0.6905 - val_Accuracy_epochs: 0.7522 - 15s/epoch - 714us/step\n",
      "Best model updated...\n",
      "--- Trial 2: Model2 HP tuning\n",
      "{'activation': 'sigmoid', 'learning_rate': 0.01}\n",
      "Epoch 1/5\n",
      "20660/20660 - 15s - loss: 1.1190 - Accuracy_epochs: 0.6243 - val_loss: 0.8416 - val_Accuracy_epochs: 0.7168 - 15s/epoch - 720us/step\n",
      "Epoch 2/5\n",
      "20660/20660 - 14s - loss: 0.7891 - Accuracy_epochs: 0.7440 - val_loss: 0.7465 - val_Accuracy_epochs: 0.7495 - 14s/epoch - 689us/step\n",
      "Epoch 3/5\n",
      "20660/20660 - 14s - loss: 0.7297 - Accuracy_epochs: 0.7506 - val_loss: 0.7262 - val_Accuracy_epochs: 0.7510 - 14s/epoch - 678us/step\n",
      "Epoch 4/5\n",
      "20660/20660 - 14s - loss: 0.7132 - Accuracy_epochs: 0.7509 - val_loss: 0.7092 - val_Accuracy_epochs: 0.7521 - 14s/epoch - 697us/step\n",
      "Epoch 5/5\n",
      "20660/20660 - 14s - loss: 0.7086 - Accuracy_epochs: 0.7514 - val_loss: 0.7110 - val_Accuracy_epochs: 0.7523 - 14s/epoch - 697us/step\n",
      "Epoch 1/5\n",
      "20660/20660 - 15s - loss: 0.7053 - Accuracy_epochs: 0.7520 - val_loss: 0.7111 - val_Accuracy_epochs: 0.7510 - 15s/epoch - 703us/step\n",
      "Epoch 2/5\n",
      "20660/20660 - 15s - loss: 0.7039 - Accuracy_epochs: 0.7521 - val_loss: 0.7078 - val_Accuracy_epochs: 0.7516 - 15s/epoch - 708us/step\n",
      "Epoch 3/5\n",
      "20660/20660 - 15s - loss: 0.7026 - Accuracy_epochs: 0.7523 - val_loss: 0.7062 - val_Accuracy_epochs: 0.7516 - 15s/epoch - 709us/step\n",
      "Epoch 4/5\n",
      "20660/20660 - 15s - loss: 0.7016 - Accuracy_epochs: 0.7524 - val_loss: 0.7047 - val_Accuracy_epochs: 0.7516 - 15s/epoch - 708us/step\n",
      "Epoch 5/5\n",
      "20660/20660 - 15s - loss: 0.7007 - Accuracy_epochs: 0.7525 - val_loss: 0.7055 - val_Accuracy_epochs: 0.7516 - 15s/epoch - 712us/step\n",
      "Epoch 1/5\n",
      "20660/20660 - 16s - loss: 0.7018 - Accuracy_epochs: 0.7520 - val_loss: 0.6983 - val_Accuracy_epochs: 0.7550 - 16s/epoch - 751us/step\n",
      "Epoch 2/5\n",
      "20660/20660 - 16s - loss: 0.7010 - Accuracy_epochs: 0.7521 - val_loss: 0.6943 - val_Accuracy_epochs: 0.7550 - 16s/epoch - 763us/step\n",
      "Epoch 3/5\n",
      "20660/20660 - 16s - loss: 0.7005 - Accuracy_epochs: 0.7519 - val_loss: 0.6945 - val_Accuracy_epochs: 0.7550 - 16s/epoch - 776us/step\n",
      "Epoch 4/5\n",
      "20660/20660 - 15s - loss: 0.6999 - Accuracy_epochs: 0.7521 - val_loss: 0.6932 - val_Accuracy_epochs: 0.7550 - 15s/epoch - 717us/step\n",
      "Epoch 5/5\n",
      "20660/20660 - 15s - loss: 0.6994 - Accuracy_epochs: 0.7521 - val_loss: 0.6956 - val_Accuracy_epochs: 0.7550 - 15s/epoch - 706us/step\n",
      "Epoch 1/5\n",
      "20660/20660 - 15s - loss: 0.6986 - Accuracy_epochs: 0.7524 - val_loss: 0.6941 - val_Accuracy_epochs: 0.7542 - 15s/epoch - 713us/step\n",
      "Epoch 2/5\n",
      "20660/20660 - 15s - loss: 0.6980 - Accuracy_epochs: 0.7526 - val_loss: 0.6928 - val_Accuracy_epochs: 0.7540 - 15s/epoch - 708us/step\n",
      "Epoch 3/5\n",
      "20660/20660 - 15s - loss: 0.6976 - Accuracy_epochs: 0.7525 - val_loss: 0.6944 - val_Accuracy_epochs: 0.7540 - 15s/epoch - 706us/step\n",
      "Epoch 4/5\n",
      "20660/20660 - 15s - loss: 0.6971 - Accuracy_epochs: 0.7525 - val_loss: 0.6929 - val_Accuracy_epochs: 0.7519 - 15s/epoch - 742us/step\n",
      "Epoch 5/5\n",
      "20660/20660 - 15s - loss: 0.6967 - Accuracy_epochs: 0.7526 - val_loss: 0.6923 - val_Accuracy_epochs: 0.7548 - 15s/epoch - 741us/step\n",
      "Epoch 1/5\n",
      "20660/20660 - 15s - loss: 0.6952 - Accuracy_epochs: 0.7535 - val_loss: 0.6974 - val_Accuracy_epochs: 0.7511 - 15s/epoch - 717us/step\n",
      "Epoch 2/5\n",
      "20660/20660 - 14s - loss: 0.6947 - Accuracy_epochs: 0.7536 - val_loss: 0.6990 - val_Accuracy_epochs: 0.7497 - 14s/epoch - 694us/step\n",
      "Epoch 3/5\n",
      "20660/20660 - 15s - loss: 0.6944 - Accuracy_epochs: 0.7536 - val_loss: 0.6967 - val_Accuracy_epochs: 0.7515 - 15s/epoch - 707us/step\n",
      "Epoch 4/5\n",
      "20660/20660 - 14s - loss: 0.6942 - Accuracy_epochs: 0.7539 - val_loss: 0.6965 - val_Accuracy_epochs: 0.7520 - 14s/epoch - 682us/step\n",
      "Epoch 5/5\n",
      "20660/20660 - 14s - loss: 0.6938 - Accuracy_epochs: 0.7539 - val_loss: 0.6949 - val_Accuracy_epochs: 0.7520 - 14s/epoch - 675us/step\n"
     ]
    }
   ],
   "source": [
    "# train loop\n",
    "N = 0\n",
    "logdir = \"mqtt_NN/model2/hp_tuning/\"\n",
    "accuracies=[]\n",
    "current_best_accuracy=0.0\n",
    "\n",
    "for actf in HP_actf.domain.values:\n",
    "    for lr in HP_lr.domain.values:\n",
    "\n",
    "        hparams = {\n",
    "            HP_actf: actf,\n",
    "            HP_lr: lr\n",
    "        }\n",
    "\n",
    "        run_name = \"Model2 HP tuning\"\n",
    "        run_dir = logdir + run_name\n",
    "\n",
    "        print(f'--- Trial {N+1}: {run_name}')\n",
    "        print({h.name: hparams[h] for h in hparams})\n",
    "\n",
    "        model2 = compile_model2 (hparams)\n",
    "        accuracy = cv(model2, hparams, ksets)\n",
    "        accuracies.append (accuracy)\n",
    "        \n",
    "        \n",
    "        if accuracies[-1] > current_best_accuracy:\n",
    "            print(\"Best model updated...\")\n",
    "            best_model2 = model2\n",
    "            \n",
    "            current_best_accuracy = accuracies[-1]\n",
    "        \n",
    "        \n",
    "        with tf.summary.create_file_writer(run_dir).as_default():\n",
    "            hp.hparams(hparams)\n",
    "            tf.summary.scalar(\"Accuracy\", accuracy, step=1)\n",
    "\n",
    "        N += 1\n",
    "\n",
    "best_model2.save (\"best_model2.h5\")"
   ]
  },
  {
   "cell_type": "code",
   "execution_count": 63,
   "id": "93add06b",
   "metadata": {},
   "outputs": [
    {
     "name": "stdout",
     "output_type": "stream",
     "text": [
      "4554/4554 [==============================] - 3s 567us/step - loss: 0.6856 - Accuracy_epochs: 0.7552\n",
      "\n",
      "- Model 2\n",
      "Model: \"sequential_45\"\n",
      "_________________________________________________________________\n",
      " Layer (type)                Output Shape              Param #   \n",
      "=================================================================\n",
      " dense_110 (Dense)           (None, 39)                1560      \n",
      "                                                                 \n",
      " dense_111 (Dense)           (None, 60)                2400      \n",
      "                                                                 \n",
      " dense_112 (Dense)           (None, 60)                3660      \n",
      "                                                                 \n",
      " dense_113 (Dense)           (None, 6)                 366       \n",
      "                                                                 \n",
      "=================================================================\n",
      "Total params: 7,986\n",
      "Trainable params: 7,986\n",
      "Non-trainable params: 0\n",
      "_________________________________________________________________\n",
      "Test loss: 0.6856\n",
      "Test accuracy: 75.5247 %\n"
     ]
    }
   ],
   "source": [
    "test_loss2, test_acc2 = best_model2.evaluate(x_test,y_test,verbose=1)\n",
    "\n",
    "print (\"\\n- Model 2\")\n",
    "best_model2.summary()\n",
    "print (f'Test loss: {test_loss2:1.4f}')\n",
    "print (f\"Test accuracy: {test_acc2*100:1.4f} %\")\n"
   ]
  },
  {
   "cell_type": "markdown",
   "id": "21ee7b0f",
   "metadata": {},
   "source": [
    "---\n",
    "---"
   ]
  },
  {
   "cell_type": "markdown",
   "id": "ebc04da4",
   "metadata": {},
   "source": [
    "### Loading Best Models"
   ]
  },
  {
   "cell_type": "code",
   "execution_count": 62,
   "id": "e69eb307",
   "metadata": {},
   "outputs": [
    {
     "name": "stdout",
     "output_type": "stream",
     "text": [
      "4554/4554 [==============================] - 3s 534us/step - loss: 0.6420 - Accuracy_epochs: 0.7738\n",
      "4554/4554 [==============================] - 3s 539us/step - loss: 0.6856 - Accuracy_epochs: 0.7552\n",
      "Model1 accuracy: 77.3776 %\n",
      "Model2 accuracy: 75.5247 %\n"
     ]
    }
   ],
   "source": [
    "cv_model1 = keras.models.load_model ('best_model1.h5')\n",
    "cv_model2 = keras.models.load_model ('best_model2.h5')\n",
    "\n",
    "loss1, acc1 = cv_model1.evaluate (x_test, y_test)\n",
    "loss2, acc2 = cv_model2.evaluate (x_test, y_test)\n",
    "\n",
    "print (f\"Model1 accuracy: {acc1*100:1.4f} %\")\n",
    "print (f\"Model2 accuracy: {acc2*100:1.4f} %\")"
   ]
  },
  {
   "cell_type": "markdown",
   "id": "fcc6076e",
   "metadata": {},
   "source": [
    "#### best_model1 specs"
   ]
  },
  {
   "cell_type": "code",
   "execution_count": 109,
   "id": "01170874",
   "metadata": {},
   "outputs": [
    {
     "name": "stdout",
     "output_type": "stream",
     "text": [
      "Model: \"sequential_39\"\n",
      "_________________________________________________________________\n",
      " Layer (type)                Output Shape              Param #   \n",
      "=================================================================\n",
      " dense_92 (Dense)            (None, 30)                1200      \n",
      "                                                                 \n",
      " dense_93 (Dense)            (None, 30)                930       \n",
      "                                                                 \n",
      " dense_94 (Dense)            (None, 6)                 186       \n",
      "                                                                 \n",
      "=================================================================\n",
      "Total params: 2,316\n",
      "Trainable params: 2,316\n",
      "Non-trainable params: 0\n",
      "_________________________________________________________________\n",
      "CV Model 1 Optimizer: Adam\n"
     ]
    }
   ],
   "source": [
    "# width, depth, optimizer\n",
    "optim_config = cv_model1.optimizer.get_config()\n",
    "\n",
    "\n",
    "cv_model1.summary()\n",
    "print (f\"CV Model 1 Optimizer: {optim_config['name']}\")"
   ]
  },
  {
   "cell_type": "markdown",
   "id": "819a3248",
   "metadata": {},
   "source": [
    "#### best_model2 specs"
   ]
  },
  {
   "cell_type": "code",
   "execution_count": 101,
   "id": "b312f076",
   "metadata": {},
   "outputs": [
    {
     "name": "stdout",
     "output_type": "stream",
     "text": [
      "- Layer 0\n",
      "     <function relu at 0x000001F1CC04A1F0>\n",
      "- Layer 1\n",
      "     <function relu at 0x000001F1CC04A1F0>\n",
      "- Layer 2\n",
      "     <function relu at 0x000001F1CC04A1F0>\n",
      "- Layer 3\n",
      "     <function linear at 0x000001F1CC04AC10>\n"
     ]
    }
   ],
   "source": [
    "# activation func\n",
    "for i, layer in enumerate (cv_model2.layers):\n",
    "    print (\"- Layer\", i)\n",
    "    try:\n",
    "        print (\"    \",layer.activation)\n",
    "    except AttributeError:\n",
    "        print('   no activation attribute')\n"
   ]
  },
  {
   "cell_type": "code",
   "execution_count": 107,
   "id": "46bbbeaf",
   "metadata": {},
   "outputs": [
    {
     "name": "stdout",
     "output_type": "stream",
     "text": [
      "CV Model2 Learning rate: 0.01\n"
     ]
    }
   ],
   "source": [
    "# lr\n",
    "best_lr = cv_model2.optimizer.learning_rate.numpy()\n",
    "\n",
    "print (f\"CV Model2 Learning rate: {best_lr:1.2f}\")"
   ]
  },
  {
   "cell_type": "code",
   "execution_count": 103,
   "id": "6ca3693e",
   "metadata": {},
   "outputs": [
    {
     "name": "stdout",
     "output_type": "stream",
     "text": [
      "Model: \"sequential_45\"\n",
      "_________________________________________________________________\n",
      " Layer (type)                Output Shape              Param #   \n",
      "=================================================================\n",
      " dense_110 (Dense)           (None, 39)                1560      \n",
      "                                                                 \n",
      " dense_111 (Dense)           (None, 60)                2400      \n",
      "                                                                 \n",
      " dense_112 (Dense)           (None, 60)                3660      \n",
      "                                                                 \n",
      " dense_113 (Dense)           (None, 6)                 366       \n",
      "                                                                 \n",
      "=================================================================\n",
      "Total params: 7,986\n",
      "Trainable params: 7,986\n",
      "Non-trainable params: 0\n",
      "_________________________________________________________________\n"
     ]
    }
   ],
   "source": [
    "cv_model2.summary()"
   ]
  }
 ],
 "metadata": {
  "kernelspec": {
   "display_name": "Python 3 (ipykernel)",
   "language": "python",
   "name": "python3"
  },
  "language_info": {
   "codemirror_mode": {
    "name": "ipython",
    "version": 3
   },
   "file_extension": ".py",
   "mimetype": "text/x-python",
   "name": "python",
   "nbconvert_exporter": "python",
   "pygments_lexer": "ipython3",
   "version": "3.9.7"
  }
 },
 "nbformat": 4,
 "nbformat_minor": 5
}
