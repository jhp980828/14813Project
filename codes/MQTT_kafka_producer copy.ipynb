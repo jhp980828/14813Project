{
 "cells": [
  {
   "cell_type": "markdown",
   "id": "512782cb",
   "metadata": {},
   "source": [
    "# Listener (Producer)"
   ]
  },
  {
   "cell_type": "code",
   "execution_count": 1,
   "id": "5df8a713",
   "metadata": {},
   "outputs": [
    {
     "name": "stderr",
     "output_type": "stream",
     "text": [
      "C:\\Spark\\spark-3.2.2-bin-hadoop2.7\\python\\pyspark\\sql\\context.py:77: FutureWarning: Deprecated in 3.0.0. Use SparkSession.builder.getOrCreate() instead.\n",
      "  warnings.warn(\n"
     ]
    },
    {
     "data": {
      "text/html": [
       "\n",
       "        <div>\n",
       "            <p><b>SparkContext</b></p>\n",
       "\n",
       "            <p><a href=\"http://ParkLenovo.mshome.net:4041\">Spark UI</a></p>\n",
       "\n",
       "            <dl>\n",
       "              <dt>Version</dt>\n",
       "                <dd><code>v3.2.2</code></dd>\n",
       "              <dt>Master</dt>\n",
       "                <dd><code>local[*]</code></dd>\n",
       "              <dt>AppName</dt>\n",
       "                <dd><code>pyspark-shell</code></dd>\n",
       "            </dl>\n",
       "        </div>\n",
       "        "
      ],
      "text/plain": [
       "<SparkContext master=local[*] appName=pyspark-shell>"
      ]
     },
     "execution_count": 1,
     "metadata": {},
     "output_type": "execute_result"
    }
   ],
   "source": [
    "import tweepy\n",
    "import time\n",
    "import json\n",
    "from kafka import KafkaProducer\n",
    "\n",
    "import findspark\n",
    "findspark.init()\n",
    "findspark.find()\n",
    "\n",
    "import pyspark\n",
    "from pyspark import SparkContext, SparkConf, SparkFiles\n",
    "from pyspark.sql import SparkSession, SQLContext\n",
    "\n",
    "sc = SparkContext.getOrCreate()\n",
    "sqlContext = SQLContext(sc)\n",
    "\n",
    "\n",
    "spark = SparkSession.builder \\\n",
    "    .master(\"local[*]\") \\\n",
    "    .appName(\"GenericAppName\") \\\n",
    "    .getOrCreate()\n",
    "\n",
    "sc"
   ]
  },
  {
   "cell_type": "code",
   "execution_count": 5,
   "id": "d358c3aa",
   "metadata": {},
   "outputs": [],
   "source": [
    "bearer_token= r\"AAAAAAAAAAAAAAAAARdhQEAAAAAfPAhL%2FVF27NDrVIajZ6%2F8Ft%2FUdk%3DgelBoitnQHnIHK86ZcCCzNgjwsEp0t7X4YvDROpwDDECj27r0w\"\n",
    "api_key = \"f6bTuLNPhRpXbHBdwNToDL\"\n",
    "api_secret = \"blbi2gfQbPMRCfF6pyac1e8RLlSKfLJdXV0OZsk5mbApcX\"\n",
    "access_token = '151874236261506-SYA7tmNAQdOgR5dbGDYXJqAIQGEo8a'\n",
    "access_token_secret = 'UZkbg7AnYq1EZmIFoRsq2qhPMHyiK3fyqM3N8O'\n",
    "\n",
    "\n",
    "tweepy.Client(bearer_token,api_key,api_secret,access_token,access_token_secret)\n",
    "#Authentification (auth,api)\n",
    "auth = tweepy.OAuth1UserHandler(api_key,api_secret,access_token,access_token_secret)\n",
    "api = tweepy.API(auth)\n",
    "\n",
    "search_terms = ['slowite','bruteforce','flood','malformed',\"'DOS'\",'legitimate']\n",
    "\n",
    "producer = KafkaProducer(bootstrap_servers='localhost:9092')\n",
    "topic_name = \"testing\"\n",
    "\n",
    "class MyStream(tweepy.StreamingClient):\n",
    "    def on_connect(self):\n",
    "        print(\"connected\")\n",
    "    \n",
    "    def on_tweet(self,tweet):\n",
    "        if tweet.referenced_tweets == None:\n",
    "            print (tweet.text)\n",
    "            time.sleep(0.2)\n",
    "            producer.send(topic_name, tweet.text.encode('utf-8'))"
   ]
  },
  {
   "cell_type": "code",
   "execution_count": 6,
   "id": "4dcc72f3",
   "metadata": {
    "scrolled": false
   },
   "outputs": [
    {
     "name": "stdout",
     "output_type": "stream",
     "text": [
      "connected\n",
      "Donald Trump is the legitimate president #Trump2024\n",
      "How would a Kindle reader ever experience the joy of opening an old book &amp; finding a long forgotten dried flower bringing a flood of memories...\n",
      "\n",
      "#fridaynightfunkinmod\n",
      "Dear Diary, today much to my surprise, I conjured a malformed shadow of  swamp baby. They showed me a vision of how I must find  the otherworld.\n",
      "Good that the Aus &amp; NSW govts buying back land &amp; supporting other resilience measures @AlboMP &amp; @Dom_Perrottet.\n",
      "\n",
      "This is #lossanddamage from #climatechange, which will only get worse as long as we keep burning #oil #coal #gas @Bowenchris @MadeleineMHKing \n",
      "\n",
      "https://t.co/g3xmrCB2dC\n",
      "It's Morbin time could  LIKE A FLOOD OF RAIN, POURING DOWN ON ME , not to mention that just got fired from Walgreens yesterday\n",
      "U.S. has a long history of lying about its biological warfare program. The U.S. cover-up over use of bioweapons in the Korean War is a major example. I've researched this for years!\n",
      "\n",
      "https://t.co/jYzBF2FEKc\n",
      "\n",
      "https://t.co/8ctTcvyOPn\n",
      "\n",
      "https://t.co/u3S0ocOYrd https://t.co/dqnfp0Fc5S\n",
      "MLB continues Flood Warning for St Johns River near Astor [FL] until further notice https://t.co/PHYvnbqCxQ https://t.co/7VqdNg8F8N\n",
      "MLB continues Flood Warning for St Johns River near Astor [FL] until further notice https://t.co/PmKKGII8Na https://t.co/gknmFqQnXz\n",
      "MLB continues Flood Warning for St Johns River near Astor [FL] until further notice https://t.co/L735DNbfWR https://t.co/Hgyliuq32r\n",
      "MLB continues Flood Warning for St Johns River near Astor [FL] until further notice https://t.co/JSsiGGe5Ph https://t.co/Rd2vVCuBIg\n",
      "MLB continues Flood Warning for St Johns River near Astor [FL] until further notice https://t.co/3HS7lwlndj https://t.co/wx9r3KZgMB\n",
      "FIRST WARNING: Flood Warning Continued for Lake &amp; Volusia Counties until 10:45 AM; . Track at https://t.co/py64C7xkPG #WESHwx\n",
      "✨MAY ALL THE TICKETS BE LEGITIMATE SOLD OUT THIS TIME!!!✨#BeTSinBULACAN #SEVENTEEN\n",
      "Honestly even if identifying as ace had something to do with my depression, so what? It didn't make my identity any less legitimate. I was still very much asexual\n",
      "Kati-Thanda Lake Eyre is Australia’s largest salt lake. Usually covered by a salt pan, flood waters from the surrounding catchments cover the lake once every eight years, but the lake is only ever filled a few times per century. (2/2)\n",
      "Napa has a half-billion dollar flood control project designed to handle any flooding in living memory — but the megaflood from pioneer days might be another story. https://t.co/vBfXgOoVy5\n",
      "New water pump station to provide flood relief in Cameron County\n",
      "https://t.co/QrAuiCsxte\n",
      "Flash flood warning. Google search how to change my career.\n",
      "The Flood Recovery Hotline can help if you need somewhere to stay and if you need financial help after the floods. Call 1800 560 760 between 7.30am and 7.30pm and press 9 to speak to an interpreter in your language. #VicFloods #Emergency https://t.co/xUnybPD81N\n",
      "How I feel every time I come on here and say “Josh Hawley is hot” and the liberals flood my replies https://t.co/Djs8YysjrY\n",
      "Are you currently battling to generate enough clients to check your legitimate home business,  Read this strategy https://t.co/IZUUNbnC5b https://t.co/Ka0q91ygBl\n",
      "looking forward to seeing annoyingly niche halloween costumes flood the tl\n",
      "What an awful flood of morning news 🫠\n",
      "Buybacks unveiled in $800m program for flood-hit NSW | The New Daily https://t.co/JQQTLTYaF5\n",
      "We cleaned up at the Oz Comedy Hall of Fame (as heard on the new ep) &amp; were inducted in the Podcast division over great (&amp; ineligible) entrants.\n",
      "Nick @CapperFlapper was the inductee in the main Comedy Hall of Fame over Dickie Knee &amp; Man in Dress!\n",
      "What a great &amp; legitimate night! https://t.co/etPmozBtbR\n",
      "Number of flood evacuees in Melaka rises to 250 #FMTNews https://t.co/VroiHBFegh\n",
      "post overload today..... 84yr old dad went to Centrelink to apply for flood assistance. Told him to do online and sent him on his way. Im trying to do now- has no mobile phone for id app, no email address. FFS what are these people paid to do?!!!\n",
      "im so goddamn excited for to your eternity s2 it’s unreal but im bracing myself for the inevitable flood of tears that will happen 🫠\n",
      "A job? Of course I'm all ears, let's hear it... it's not detective work? Gray zone? Haha, we don't work like that. We're fine, upstanding citizens in my establishment, I run a legitimate business.\n",
      "FIRST WARNING: Flood Warning Continued for Lake &amp; Volusia Counties until 11:00 AM; . Track at https://t.co/py64C7xkPG #WESHwx\n",
      "MLB continues Flood Warning for St Johns River near Deland [FL] until further notice https://t.co/ihZXCcVgYx https://t.co/cFYTgjDBLh\n",
      "MLB continues Flood Warning for St Johns River near Deland [FL] until further notice https://t.co/R4sOnyAohf https://t.co/Xo85SPTuaw\n",
      "MLB continues Flood Warning for St Johns River near Deland [FL] until further notice https://t.co/P2pJZmndAc https://t.co/7eAdWHJerb\n",
      "MLB continues Flood Warning for St Johns River near Deland [FL] until further notice https://t.co/vezL5AmTt2 https://t.co/vRqVDV7N3L\n",
      "MLB continues Flood Warning for St Johns River near Deland [FL] until further notice https://t.co/bXIHTMvoN1 https://t.co/XqwQuqOqth\n",
      "Reliance on outdated maps putting councils backward in flood planning https://t.co/81Y1qnQ2Ld\n",
      "FortuneJack, as a legitimate Bitcoin gaming platform, allows investors to bet cryptocurrencies to win cryptocurrencies.Users can make swift deposits using a variety of cryptocurrencies, including Bitcoin, Ethereum, Dogecoin, and others. #DigifinexAirdrop\n",
      "Yesterday 10 of our SES volunteers from Brisbane and the Gold Coast arrived in flood-affected Echuca, Victoria to lend a hand. \n",
      "So far they’ve been busy using the flood boat to conduct welfare checks and helping to restock supplies for stranded residents. https://t.co/HWiaH7IdYj\n",
      "art by @/yumetsumugis(i didnt tag so i wouldnt flood their notifs) https://t.co/ubZaVRxI5d\n",
      "art by user @/yumetsumugis (i didnt tag so it wouldnt flood their notifs) https://t.co/jJ8BIgQVBO\n",
      "bro I just go to Instagram to find cute cat reels but I’m hit with the heartbreak ones. IK I WENT THROUGH A BREAKUP YOU DONT HAVE TO FLOOD ME WITH THE FEELS.\n",
      "flood my dms with any HENTAI send fast wickr baddud99 #nsfw #nsfwtwt #dmsopen #dmme #sendmeanything #hentai #porn #loli #nolimits #incest #uncensored #cunny  #sex  #thighjobs #lolihentai #anal https://t.co/x8FGH2gHwq\n",
      "Kings have three legitimate starters and two or three bench players that would play on a legitimate playoff team. That's it. This roster needs so much work.\n",
      "An end to developing flood plains. Wow! That only took 250 years!Buybacks unveiled in $800m program for flood-hit NSW | The New Daily https://t.co/aVsxIYCHvm\n",
      "I appreciate that the government listened after the last flood and are informing about school closures much earlier. Kudos where they’re due.\n",
      "FIRST WARNING: Flood Warning Continued for Seminole County until 11:00 AM; . Track at https://t.co/py64C7xkPG #WESHwx\n",
      "MLB continues Flood Warning for St Johns River near Sanford [FL] until further notice https://t.co/6kx8SOZO4D https://t.co/hpoiCG7si1\n",
      "MLB continues Flood Warning for St Johns River near Sanford [FL] until further notice https://t.co/EhFKS7KDpT https://t.co/awIIDZUADa\n",
      "MLB continues Flood Warning for St Johns River near Sanford [FL] until further notice https://t.co/pMDvPHh8RB https://t.co/kztfyIELdY\n",
      "MLB continues Flood Warning for St Johns River near Sanford [FL] until further notice https://t.co/MsuFNglszl https://t.co/RcKueHfaSg\n",
      "MLB continues Flood Warning for St Johns River near Sanford [FL] until further notice https://t.co/rxG56tec8A https://t.co/mNB3OTDbFK\n",
      "Recall... Could the Php 1.9 bn in flood control projects axed by Noynoy Aquino have saved Metro Manila from destruction? 😮  https://t.co/saAGPfL2Y5\n"
     ]
    },
    {
     "ename": "KeyboardInterrupt",
     "evalue": "",
     "output_type": "error",
     "traceback": [
      "\u001b[1;31m---------------------------------------------------------------------------\u001b[0m",
      "\u001b[1;31mKeyboardInterrupt\u001b[0m                         Traceback (most recent call last)",
      "\u001b[1;32m~\\AppData\\Local\\Temp/ipykernel_2956/132737959.py\u001b[0m in \u001b[0;36m<module>\u001b[1;34m\u001b[0m\n\u001b[0;32m      5\u001b[0m     \u001b[0mstream\u001b[0m\u001b[1;33m.\u001b[0m\u001b[0madd_rules\u001b[0m\u001b[1;33m(\u001b[0m\u001b[0mtweepy\u001b[0m\u001b[1;33m.\u001b[0m\u001b[0mStreamRule\u001b[0m\u001b[1;33m(\u001b[0m\u001b[0mterm\u001b[0m\u001b[1;33m)\u001b[0m\u001b[1;33m)\u001b[0m\u001b[1;33m\u001b[0m\u001b[1;33m\u001b[0m\u001b[0m\n\u001b[0;32m      6\u001b[0m \u001b[1;33m\u001b[0m\u001b[0m\n\u001b[1;32m----> 7\u001b[1;33m \u001b[0mstream\u001b[0m\u001b[1;33m.\u001b[0m\u001b[0mfilter\u001b[0m\u001b[1;33m(\u001b[0m\u001b[0mtweet_fields\u001b[0m\u001b[1;33m=\u001b[0m\u001b[1;33m[\u001b[0m\u001b[1;34m\"referenced_tweets\"\u001b[0m\u001b[1;33m]\u001b[0m\u001b[1;33m)\u001b[0m\u001b[1;33m\u001b[0m\u001b[1;33m\u001b[0m\u001b[0m\n\u001b[0m\u001b[0;32m      8\u001b[0m \u001b[1;33m\u001b[0m\u001b[0m\n",
      "\u001b[1;32m~\\anaconda3\\lib\\site-packages\\tweepy\\streaming.py\u001b[0m in \u001b[0;36mfilter\u001b[1;34m(self, threaded, **params)\u001b[0m\n\u001b[0;32m    789\u001b[0m             \u001b[1;32mreturn\u001b[0m \u001b[0mself\u001b[0m\u001b[1;33m.\u001b[0m\u001b[0m_threaded_connect\u001b[0m\u001b[1;33m(\u001b[0m\u001b[0mmethod\u001b[0m\u001b[1;33m,\u001b[0m \u001b[0mendpoint\u001b[0m\u001b[1;33m,\u001b[0m \u001b[0mparams\u001b[0m\u001b[1;33m=\u001b[0m\u001b[0mparams\u001b[0m\u001b[1;33m)\u001b[0m\u001b[1;33m\u001b[0m\u001b[1;33m\u001b[0m\u001b[0m\n\u001b[0;32m    790\u001b[0m         \u001b[1;32melse\u001b[0m\u001b[1;33m:\u001b[0m\u001b[1;33m\u001b[0m\u001b[1;33m\u001b[0m\u001b[0m\n\u001b[1;32m--> 791\u001b[1;33m             \u001b[0mself\u001b[0m\u001b[1;33m.\u001b[0m\u001b[0m_connect\u001b[0m\u001b[1;33m(\u001b[0m\u001b[0mmethod\u001b[0m\u001b[1;33m,\u001b[0m \u001b[0mendpoint\u001b[0m\u001b[1;33m,\u001b[0m \u001b[0mparams\u001b[0m\u001b[1;33m=\u001b[0m\u001b[0mparams\u001b[0m\u001b[1;33m)\u001b[0m\u001b[1;33m\u001b[0m\u001b[1;33m\u001b[0m\u001b[0m\n\u001b[0m\u001b[0;32m    792\u001b[0m \u001b[1;33m\u001b[0m\u001b[0m\n\u001b[0;32m    793\u001b[0m     \u001b[1;32mdef\u001b[0m \u001b[0mget_rules\u001b[0m\u001b[1;33m(\u001b[0m\u001b[0mself\u001b[0m\u001b[1;33m,\u001b[0m \u001b[1;33m**\u001b[0m\u001b[0mparams\u001b[0m\u001b[1;33m)\u001b[0m\u001b[1;33m:\u001b[0m\u001b[1;33m\u001b[0m\u001b[1;33m\u001b[0m\u001b[0m\n",
      "\u001b[1;32m~\\anaconda3\\lib\\site-packages\\tweepy\\streaming.py\u001b[0m in \u001b[0;36m_connect\u001b[1;34m(self, method, endpoint, **kwargs)\u001b[0m\n\u001b[0;32m    609\u001b[0m         \u001b[0mself\u001b[0m\u001b[1;33m.\u001b[0m\u001b[0msession\u001b[0m\u001b[1;33m.\u001b[0m\u001b[0mheaders\u001b[0m\u001b[1;33m[\u001b[0m\u001b[1;34m\"Authorization\"\u001b[0m\u001b[1;33m]\u001b[0m \u001b[1;33m=\u001b[0m \u001b[1;34mf\"Bearer {self.bearer_token}\"\u001b[0m\u001b[1;33m\u001b[0m\u001b[1;33m\u001b[0m\u001b[0m\n\u001b[0;32m    610\u001b[0m         \u001b[0murl\u001b[0m \u001b[1;33m=\u001b[0m \u001b[1;34mf\"https://api.twitter.com/2/tweets/{endpoint}/stream\"\u001b[0m\u001b[1;33m\u001b[0m\u001b[1;33m\u001b[0m\u001b[0m\n\u001b[1;32m--> 611\u001b[1;33m         \u001b[0msuper\u001b[0m\u001b[1;33m(\u001b[0m\u001b[1;33m)\u001b[0m\u001b[1;33m.\u001b[0m\u001b[0m_connect\u001b[0m\u001b[1;33m(\u001b[0m\u001b[0mmethod\u001b[0m\u001b[1;33m,\u001b[0m \u001b[0murl\u001b[0m\u001b[1;33m,\u001b[0m \u001b[1;33m**\u001b[0m\u001b[0mkwargs\u001b[0m\u001b[1;33m)\u001b[0m\u001b[1;33m\u001b[0m\u001b[1;33m\u001b[0m\u001b[0m\n\u001b[0m\u001b[0;32m    612\u001b[0m \u001b[1;33m\u001b[0m\u001b[0m\n\u001b[0;32m    613\u001b[0m     \u001b[1;32mdef\u001b[0m \u001b[0m_process_data\u001b[0m\u001b[1;33m(\u001b[0m\u001b[0mself\u001b[0m\u001b[1;33m,\u001b[0m \u001b[0mdata\u001b[0m\u001b[1;33m,\u001b[0m \u001b[0mdata_type\u001b[0m\u001b[1;33m=\u001b[0m\u001b[1;32mNone\u001b[0m\u001b[1;33m)\u001b[0m\u001b[1;33m:\u001b[0m\u001b[1;33m\u001b[0m\u001b[1;33m\u001b[0m\u001b[0m\n",
      "\u001b[1;32m~\\anaconda3\\lib\\site-packages\\tweepy\\streaming.py\u001b[0m in \u001b[0;36m_connect\u001b[1;34m(self, method, url, auth, params, headers, body)\u001b[0m\n\u001b[0;32m     85\u001b[0m                                 \u001b[1;32mbreak\u001b[0m\u001b[1;33m\u001b[0m\u001b[1;33m\u001b[0m\u001b[0m\n\u001b[0;32m     86\u001b[0m \u001b[1;33m\u001b[0m\u001b[0m\n\u001b[1;32m---> 87\u001b[1;33m                             for line in resp.iter_lines(\n\u001b[0m\u001b[0;32m     88\u001b[0m                                 \u001b[0mchunk_size\u001b[0m\u001b[1;33m=\u001b[0m\u001b[0mself\u001b[0m\u001b[1;33m.\u001b[0m\u001b[0mchunk_size\u001b[0m\u001b[1;33m\u001b[0m\u001b[1;33m\u001b[0m\u001b[0m\n\u001b[0;32m     89\u001b[0m                             ):\n",
      "\u001b[1;32m~\\anaconda3\\lib\\site-packages\\requests\\models.py\u001b[0m in \u001b[0;36miter_lines\u001b[1;34m(self, chunk_size, decode_unicode, delimiter)\u001b[0m\n\u001b[0;32m    863\u001b[0m         \u001b[0mpending\u001b[0m \u001b[1;33m=\u001b[0m \u001b[1;32mNone\u001b[0m\u001b[1;33m\u001b[0m\u001b[1;33m\u001b[0m\u001b[0m\n\u001b[0;32m    864\u001b[0m \u001b[1;33m\u001b[0m\u001b[0m\n\u001b[1;32m--> 865\u001b[1;33m         for chunk in self.iter_content(\n\u001b[0m\u001b[0;32m    866\u001b[0m             \u001b[0mchunk_size\u001b[0m\u001b[1;33m=\u001b[0m\u001b[0mchunk_size\u001b[0m\u001b[1;33m,\u001b[0m \u001b[0mdecode_unicode\u001b[0m\u001b[1;33m=\u001b[0m\u001b[0mdecode_unicode\u001b[0m\u001b[1;33m\u001b[0m\u001b[1;33m\u001b[0m\u001b[0m\n\u001b[0;32m    867\u001b[0m         ):\n",
      "\u001b[1;32m~\\anaconda3\\lib\\site-packages\\requests\\models.py\u001b[0m in \u001b[0;36mgenerate\u001b[1;34m()\u001b[0m\n\u001b[0;32m    814\u001b[0m             \u001b[1;32mif\u001b[0m \u001b[0mhasattr\u001b[0m\u001b[1;33m(\u001b[0m\u001b[0mself\u001b[0m\u001b[1;33m.\u001b[0m\u001b[0mraw\u001b[0m\u001b[1;33m,\u001b[0m \u001b[1;34m\"stream\"\u001b[0m\u001b[1;33m)\u001b[0m\u001b[1;33m:\u001b[0m\u001b[1;33m\u001b[0m\u001b[1;33m\u001b[0m\u001b[0m\n\u001b[0;32m    815\u001b[0m                 \u001b[1;32mtry\u001b[0m\u001b[1;33m:\u001b[0m\u001b[1;33m\u001b[0m\u001b[1;33m\u001b[0m\u001b[0m\n\u001b[1;32m--> 816\u001b[1;33m                     \u001b[1;32myield\u001b[0m \u001b[1;32mfrom\u001b[0m \u001b[0mself\u001b[0m\u001b[1;33m.\u001b[0m\u001b[0mraw\u001b[0m\u001b[1;33m.\u001b[0m\u001b[0mstream\u001b[0m\u001b[1;33m(\u001b[0m\u001b[0mchunk_size\u001b[0m\u001b[1;33m,\u001b[0m \u001b[0mdecode_content\u001b[0m\u001b[1;33m=\u001b[0m\u001b[1;32mTrue\u001b[0m\u001b[1;33m)\u001b[0m\u001b[1;33m\u001b[0m\u001b[1;33m\u001b[0m\u001b[0m\n\u001b[0m\u001b[0;32m    817\u001b[0m                 \u001b[1;32mexcept\u001b[0m \u001b[0mProtocolError\u001b[0m \u001b[1;32mas\u001b[0m \u001b[0me\u001b[0m\u001b[1;33m:\u001b[0m\u001b[1;33m\u001b[0m\u001b[1;33m\u001b[0m\u001b[0m\n\u001b[0;32m    818\u001b[0m                     \u001b[1;32mraise\u001b[0m \u001b[0mChunkedEncodingError\u001b[0m\u001b[1;33m(\u001b[0m\u001b[0me\u001b[0m\u001b[1;33m)\u001b[0m\u001b[1;33m\u001b[0m\u001b[1;33m\u001b[0m\u001b[0m\n",
      "\u001b[1;32m~\\anaconda3\\lib\\site-packages\\urllib3\\response.py\u001b[0m in \u001b[0;36mstream\u001b[1;34m(self, amt, decode_content)\u001b[0m\n\u001b[0;32m    570\u001b[0m         \"\"\"\n\u001b[0;32m    571\u001b[0m         \u001b[1;32mif\u001b[0m \u001b[0mself\u001b[0m\u001b[1;33m.\u001b[0m\u001b[0mchunked\u001b[0m \u001b[1;32mand\u001b[0m \u001b[0mself\u001b[0m\u001b[1;33m.\u001b[0m\u001b[0msupports_chunked_reads\u001b[0m\u001b[1;33m(\u001b[0m\u001b[1;33m)\u001b[0m\u001b[1;33m:\u001b[0m\u001b[1;33m\u001b[0m\u001b[1;33m\u001b[0m\u001b[0m\n\u001b[1;32m--> 572\u001b[1;33m             \u001b[1;32mfor\u001b[0m \u001b[0mline\u001b[0m \u001b[1;32min\u001b[0m \u001b[0mself\u001b[0m\u001b[1;33m.\u001b[0m\u001b[0mread_chunked\u001b[0m\u001b[1;33m(\u001b[0m\u001b[0mamt\u001b[0m\u001b[1;33m,\u001b[0m \u001b[0mdecode_content\u001b[0m\u001b[1;33m=\u001b[0m\u001b[0mdecode_content\u001b[0m\u001b[1;33m)\u001b[0m\u001b[1;33m:\u001b[0m\u001b[1;33m\u001b[0m\u001b[1;33m\u001b[0m\u001b[0m\n\u001b[0m\u001b[0;32m    573\u001b[0m                 \u001b[1;32myield\u001b[0m \u001b[0mline\u001b[0m\u001b[1;33m\u001b[0m\u001b[1;33m\u001b[0m\u001b[0m\n\u001b[0;32m    574\u001b[0m         \u001b[1;32melse\u001b[0m\u001b[1;33m:\u001b[0m\u001b[1;33m\u001b[0m\u001b[1;33m\u001b[0m\u001b[0m\n",
      "\u001b[1;32m~\\anaconda3\\lib\\site-packages\\urllib3\\response.py\u001b[0m in \u001b[0;36mread_chunked\u001b[1;34m(self, amt, decode_content)\u001b[0m\n\u001b[0;32m    762\u001b[0m \u001b[1;33m\u001b[0m\u001b[0m\n\u001b[0;32m    763\u001b[0m             \u001b[1;32mwhile\u001b[0m \u001b[1;32mTrue\u001b[0m\u001b[1;33m:\u001b[0m\u001b[1;33m\u001b[0m\u001b[1;33m\u001b[0m\u001b[0m\n\u001b[1;32m--> 764\u001b[1;33m                 \u001b[0mself\u001b[0m\u001b[1;33m.\u001b[0m\u001b[0m_update_chunk_length\u001b[0m\u001b[1;33m(\u001b[0m\u001b[1;33m)\u001b[0m\u001b[1;33m\u001b[0m\u001b[1;33m\u001b[0m\u001b[0m\n\u001b[0m\u001b[0;32m    765\u001b[0m                 \u001b[1;32mif\u001b[0m \u001b[0mself\u001b[0m\u001b[1;33m.\u001b[0m\u001b[0mchunk_left\u001b[0m \u001b[1;33m==\u001b[0m \u001b[1;36m0\u001b[0m\u001b[1;33m:\u001b[0m\u001b[1;33m\u001b[0m\u001b[1;33m\u001b[0m\u001b[0m\n\u001b[0;32m    766\u001b[0m                     \u001b[1;32mbreak\u001b[0m\u001b[1;33m\u001b[0m\u001b[1;33m\u001b[0m\u001b[0m\n",
      "\u001b[1;32m~\\anaconda3\\lib\\site-packages\\urllib3\\response.py\u001b[0m in \u001b[0;36m_update_chunk_length\u001b[1;34m(self)\u001b[0m\n\u001b[0;32m    692\u001b[0m         \u001b[1;32mif\u001b[0m \u001b[0mself\u001b[0m\u001b[1;33m.\u001b[0m\u001b[0mchunk_left\u001b[0m \u001b[1;32mis\u001b[0m \u001b[1;32mnot\u001b[0m \u001b[1;32mNone\u001b[0m\u001b[1;33m:\u001b[0m\u001b[1;33m\u001b[0m\u001b[1;33m\u001b[0m\u001b[0m\n\u001b[0;32m    693\u001b[0m             \u001b[1;32mreturn\u001b[0m\u001b[1;33m\u001b[0m\u001b[1;33m\u001b[0m\u001b[0m\n\u001b[1;32m--> 694\u001b[1;33m         \u001b[0mline\u001b[0m \u001b[1;33m=\u001b[0m \u001b[0mself\u001b[0m\u001b[1;33m.\u001b[0m\u001b[0m_fp\u001b[0m\u001b[1;33m.\u001b[0m\u001b[0mfp\u001b[0m\u001b[1;33m.\u001b[0m\u001b[0mreadline\u001b[0m\u001b[1;33m(\u001b[0m\u001b[1;33m)\u001b[0m\u001b[1;33m\u001b[0m\u001b[1;33m\u001b[0m\u001b[0m\n\u001b[0m\u001b[0;32m    695\u001b[0m         \u001b[0mline\u001b[0m \u001b[1;33m=\u001b[0m \u001b[0mline\u001b[0m\u001b[1;33m.\u001b[0m\u001b[0msplit\u001b[0m\u001b[1;33m(\u001b[0m\u001b[1;34mb\";\"\u001b[0m\u001b[1;33m,\u001b[0m \u001b[1;36m1\u001b[0m\u001b[1;33m)\u001b[0m\u001b[1;33m[\u001b[0m\u001b[1;36m0\u001b[0m\u001b[1;33m]\u001b[0m\u001b[1;33m\u001b[0m\u001b[1;33m\u001b[0m\u001b[0m\n\u001b[0;32m    696\u001b[0m         \u001b[1;32mtry\u001b[0m\u001b[1;33m:\u001b[0m\u001b[1;33m\u001b[0m\u001b[1;33m\u001b[0m\u001b[0m\n",
      "\u001b[1;32m~\\anaconda3\\lib\\socket.py\u001b[0m in \u001b[0;36mreadinto\u001b[1;34m(self, b)\u001b[0m\n\u001b[0;32m    702\u001b[0m         \u001b[1;32mwhile\u001b[0m \u001b[1;32mTrue\u001b[0m\u001b[1;33m:\u001b[0m\u001b[1;33m\u001b[0m\u001b[1;33m\u001b[0m\u001b[0m\n\u001b[0;32m    703\u001b[0m             \u001b[1;32mtry\u001b[0m\u001b[1;33m:\u001b[0m\u001b[1;33m\u001b[0m\u001b[1;33m\u001b[0m\u001b[0m\n\u001b[1;32m--> 704\u001b[1;33m                 \u001b[1;32mreturn\u001b[0m \u001b[0mself\u001b[0m\u001b[1;33m.\u001b[0m\u001b[0m_sock\u001b[0m\u001b[1;33m.\u001b[0m\u001b[0mrecv_into\u001b[0m\u001b[1;33m(\u001b[0m\u001b[0mb\u001b[0m\u001b[1;33m)\u001b[0m\u001b[1;33m\u001b[0m\u001b[1;33m\u001b[0m\u001b[0m\n\u001b[0m\u001b[0;32m    705\u001b[0m             \u001b[1;32mexcept\u001b[0m \u001b[0mtimeout\u001b[0m\u001b[1;33m:\u001b[0m\u001b[1;33m\u001b[0m\u001b[1;33m\u001b[0m\u001b[0m\n\u001b[0;32m    706\u001b[0m                 \u001b[0mself\u001b[0m\u001b[1;33m.\u001b[0m\u001b[0m_timeout_occurred\u001b[0m \u001b[1;33m=\u001b[0m \u001b[1;32mTrue\u001b[0m\u001b[1;33m\u001b[0m\u001b[1;33m\u001b[0m\u001b[0m\n",
      "\u001b[1;32m~\\anaconda3\\lib\\ssl.py\u001b[0m in \u001b[0;36mrecv_into\u001b[1;34m(self, buffer, nbytes, flags)\u001b[0m\n\u001b[0;32m   1239\u001b[0m                   \u001b[1;34m\"non-zero flags not allowed in calls to recv_into() on %s\"\u001b[0m \u001b[1;33m%\u001b[0m\u001b[1;33m\u001b[0m\u001b[1;33m\u001b[0m\u001b[0m\n\u001b[0;32m   1240\u001b[0m                   self.__class__)\n\u001b[1;32m-> 1241\u001b[1;33m             \u001b[1;32mreturn\u001b[0m \u001b[0mself\u001b[0m\u001b[1;33m.\u001b[0m\u001b[0mread\u001b[0m\u001b[1;33m(\u001b[0m\u001b[0mnbytes\u001b[0m\u001b[1;33m,\u001b[0m \u001b[0mbuffer\u001b[0m\u001b[1;33m)\u001b[0m\u001b[1;33m\u001b[0m\u001b[1;33m\u001b[0m\u001b[0m\n\u001b[0m\u001b[0;32m   1242\u001b[0m         \u001b[1;32melse\u001b[0m\u001b[1;33m:\u001b[0m\u001b[1;33m\u001b[0m\u001b[1;33m\u001b[0m\u001b[0m\n\u001b[0;32m   1243\u001b[0m             \u001b[1;32mreturn\u001b[0m \u001b[0msuper\u001b[0m\u001b[1;33m(\u001b[0m\u001b[1;33m)\u001b[0m\u001b[1;33m.\u001b[0m\u001b[0mrecv_into\u001b[0m\u001b[1;33m(\u001b[0m\u001b[0mbuffer\u001b[0m\u001b[1;33m,\u001b[0m \u001b[0mnbytes\u001b[0m\u001b[1;33m,\u001b[0m \u001b[0mflags\u001b[0m\u001b[1;33m)\u001b[0m\u001b[1;33m\u001b[0m\u001b[1;33m\u001b[0m\u001b[0m\n",
      "\u001b[1;32m~\\anaconda3\\lib\\ssl.py\u001b[0m in \u001b[0;36mread\u001b[1;34m(self, len, buffer)\u001b[0m\n\u001b[0;32m   1097\u001b[0m         \u001b[1;32mtry\u001b[0m\u001b[1;33m:\u001b[0m\u001b[1;33m\u001b[0m\u001b[1;33m\u001b[0m\u001b[0m\n\u001b[0;32m   1098\u001b[0m             \u001b[1;32mif\u001b[0m \u001b[0mbuffer\u001b[0m \u001b[1;32mis\u001b[0m \u001b[1;32mnot\u001b[0m \u001b[1;32mNone\u001b[0m\u001b[1;33m:\u001b[0m\u001b[1;33m\u001b[0m\u001b[1;33m\u001b[0m\u001b[0m\n\u001b[1;32m-> 1099\u001b[1;33m                 \u001b[1;32mreturn\u001b[0m \u001b[0mself\u001b[0m\u001b[1;33m.\u001b[0m\u001b[0m_sslobj\u001b[0m\u001b[1;33m.\u001b[0m\u001b[0mread\u001b[0m\u001b[1;33m(\u001b[0m\u001b[0mlen\u001b[0m\u001b[1;33m,\u001b[0m \u001b[0mbuffer\u001b[0m\u001b[1;33m)\u001b[0m\u001b[1;33m\u001b[0m\u001b[1;33m\u001b[0m\u001b[0m\n\u001b[0m\u001b[0;32m   1100\u001b[0m             \u001b[1;32melse\u001b[0m\u001b[1;33m:\u001b[0m\u001b[1;33m\u001b[0m\u001b[1;33m\u001b[0m\u001b[0m\n\u001b[0;32m   1101\u001b[0m                 \u001b[1;32mreturn\u001b[0m \u001b[0mself\u001b[0m\u001b[1;33m.\u001b[0m\u001b[0m_sslobj\u001b[0m\u001b[1;33m.\u001b[0m\u001b[0mread\u001b[0m\u001b[1;33m(\u001b[0m\u001b[0mlen\u001b[0m\u001b[1;33m)\u001b[0m\u001b[1;33m\u001b[0m\u001b[1;33m\u001b[0m\u001b[0m\n",
      "\u001b[1;31mKeyboardInterrupt\u001b[0m: "
     ]
    }
   ],
   "source": [
    "# Live stream\n",
    "stream = MyStream(bearer_token=bearer_token)\n",
    "\n",
    "for term in search_terms:\n",
    "    stream.add_rules(tweepy.StreamRule(term))\n",
    "\n",
    "stream.filter(tweet_fields=[\"referenced_tweets\"]) \n",
    "    \n"
   ]
  },
  {
   "cell_type": "raw",
   "id": "14818a19",
   "metadata": {},
   "source": [
    "################## Run to Remove All Stream Rules\n",
    "rule = stream.get_rules()[0] # current rules in a list\n",
    "\n",
    "delete=[]\n",
    "for i in range (len(rule)):\n",
    "    delete.append (rule[i][2]) # id values\n",
    "    \n",
    "\n",
    "stream.delete_rules (ids=delete)"
   ]
  }
 ],
 "metadata": {
  "kernelspec": {
   "display_name": "Python 3",
   "language": "python",
   "name": "python3"
  },
  "language_info": {
   "codemirror_mode": {
    "name": "ipython",
    "version": 3
   },
   "file_extension": ".py",
   "mimetype": "text/x-python",
   "name": "python",
   "nbconvert_exporter": "python",
   "pygments_lexer": "ipython3",
   "version": "3.7.9 (tags/v3.7.9:13c94747c7, Aug 17 2020, 16:30:00) [MSC v.1900 64 bit (AMD64)]"
  },
  "vscode": {
   "interpreter": {
    "hash": "cbeb1089ba0a5b1db65f69713e03d5a3f751472a24c3b2bed748812cf85eef38"
   }
  }
 },
 "nbformat": 4,
 "nbformat_minor": 5
}
