{
 "cells": [
  {
   "cell_type": "markdown",
   "id": "39789f53",
   "metadata": {},
   "source": [
    "# Consumer"
   ]
  },
  {
   "cell_type": "code",
   "execution_count": 2,
   "id": "fa8a9e68",
   "metadata": {},
   "outputs": [
    {
     "data": {
      "text/html": [
       "\n",
       "        <div>\n",
       "            <p><b>SparkContext</b></p>\n",
       "\n",
       "            <p><a href=\"http://127.0.0.1:4043\">Spark UI</a></p>\n",
       "\n",
       "            <dl>\n",
       "              <dt>Version</dt>\n",
       "                <dd><code>v3.2.2</code></dd>\n",
       "              <dt>Master</dt>\n",
       "                <dd><code>local</code></dd>\n",
       "              <dt>AppName</dt>\n",
       "                <dd><code>Twitter Real-time Analytics via Kafka and Spark</code></dd>\n",
       "            </dl>\n",
       "        </div>\n",
       "        "
      ],
      "text/plain": [
       "<SparkContext master=local appName=Twitter Real-time Analytics via Kafka and Spark>"
      ]
     },
     "execution_count": 2,
     "metadata": {},
     "output_type": "execute_result"
    }
   ],
   "source": [
    "import pandas as pd\n",
    "import numpy as np\n",
    "import matplotlib.pyplot as plt\n",
    "import findspark\n",
    "findspark.init()\n",
    "findspark.find()\n",
    "import pyspark\n",
    "from pyspark import SparkContext, SparkConf, SQLContext\n",
    "from pyspark.sql import SparkSession\n",
    "from pyspark.sql import SparkSession\n",
    "import time\n",
    "\n",
    "appName = \"Twitter Real-time Analytics via Kafka and Spark\"\n",
    "master = \"local\"\n",
    "conf = pyspark.SparkConf().set('spark.driver.host','127.0.0.1').setAppName(appName).setMaster(master)\n",
    "sc = SparkContext.getOrCreate(conf=conf)\n",
    "\n",
    "spark = SparkSession.builder \\\n",
    "    .appName(\"Twitter Spark and Kafka example\") \\\n",
    "        .getOrCreate()\n",
    "\n",
    "sc"
   ]
  },
  {
   "cell_type": "code",
   "execution_count": 3,
   "id": "d8b2154c",
   "metadata": {},
   "outputs": [],
   "source": [
    "from kafka import KafkaConsumer\n",
    "import json\n",
    "\n",
    "topic_name = 'testing'\n",
    "\n",
    "kafka_consumer = KafkaConsumer(\n",
    "    topic_name,\n",
    "    bootstrap_servers=['localhost:9092'],\n",
    "    auto_offset_reset='latest',\n",
    "    enable_auto_commit=True,\n",
    "    auto_commit_interval_ms = 5000,\n",
    "    fetch_max_bytes = 128,\n",
    "    max_poll_records = 100,\n",
    "    value_deserializer=lambda x: x.decode('utf-8'))"
   ]
  },
  {
   "cell_type": "code",
   "execution_count": 4,
   "id": "0a92130c",
   "metadata": {},
   "outputs": [
    {
     "name": "stdout",
     "output_type": "stream",
     "text": [
      "First tweet received.\n",
      "636 words stored.\n",
      "+--------------------+-----+\n",
      "|                word|count|\n",
      "+--------------------+-----+\n",
      "|               Trump|    1|\n",
      "|          #Trump2024|    1|\n",
      "|                  is|    1|\n",
      "|              Donald|    1|\n",
      "|                 the|    1|\n",
      "|           president|    1|\n",
      "|          legitimate|    1|\n",
      "|                   a|    3|\n",
      "|                  of|    2|\n",
      "|              flower|    1|\n",
      "|                 joy|    1|\n",
      "|             opening|    1|\n",
      "|memories...\\n\\n#f...|    1|\n",
      "|              reader|    1|\n",
      "|            bringing|    1|\n",
      "|                 old|    1|\n",
      "|             finding|    1|\n",
      "|               dried|    1|\n",
      "|               flood|    1|\n",
      "|           forgotten|    1|\n",
      "+--------------------+-----+\n",
      "only showing top 20 rows\n",
      "\n"
     ]
    }
   ],
   "source": [
    "import tweepy\n",
    "from pyspark.sql.functions import *\n",
    "from pyspark.sql.types import *\n",
    "\n",
    "streamed_data = None\n",
    "\n",
    "wordlist = []\n",
    "duration = 300 # seconds\n",
    "\n",
    "start = time.time ()\n",
    "\n",
    "for message in kafka_consumer:\n",
    "    \n",
    "    data = [message.value] \n",
    "    tweet = spark.createDataFrame(data,\"string\")\n",
    "    \n",
    "    if streamed_data is None:\n",
    "        streamed_data = tweet.withColumn('word', explode(split(col('value'), ' '))) \\\n",
    "                    .groupBy('word') \\\n",
    "                    .count() \\\n",
    "                    .sort('count', ascending=False)\n",
    "                    \n",
    "        print (\"First tweet received.\")\n",
    "        \n",
    "    else:\n",
    "        streamed_data = streamed_data.union(tweet.withColumn('word', explode(split(col('value'), ' '))) \\\n",
    "                    .groupBy('word') \\\n",
    "                    .count() \\\n",
    "                    .sort('count', ascending=False))\n",
    "                    \n",
    "\n",
    "    stream_time = time.time()-start\n",
    "    if stream_time > duration:\n",
    "        print (f\"{streamed_data.count()} words stored.\")\n",
    "        break\n",
    "\n",
    "streamed_data.show ()"
   ]
  },
  {
   "cell_type": "code",
   "execution_count": null,
   "id": "521dff00",
   "metadata": {},
   "outputs": [],
   "source": [
    "search_terms = ['slowite','bruteforce','flood','malformed',\"'DOS'\",'legitimate']\n",
    "sum_list = []\n",
    "\n",
    "for i in range (len (search_terms)):\n",
    "    word_count = streamed_data.filter (col('word').contains(search_terms[i]))\n",
    "    word_count.show ()\n",
    "    \n",
    "    sum_count = word_count.select(sum('count')).collect()[0][0]\n",
    "    if sum_count == None:\n",
    "        sum_count=0\n",
    "        sum_list.append (sum_count)\n",
    "    else:\n",
    "        sum_list.append (sum_count)\n",
    "        \n",
    "        \n",
    "df = pd.DataFrame({\n",
    "    'words': search_terms,\n",
    "    'counts': sum_list\n",
    "    })"
   ]
  },
  {
   "cell_type": "code",
   "execution_count": 5,
   "id": "379ee849",
   "metadata": {
    "scrolled": false
   },
   "outputs": [
    {
     "name": "stdout",
     "output_type": "stream",
     "text": [
      "+----+-----+\n",
      "|word|count|\n",
      "+----+-----+\n",
      "+----+-----+\n",
      "\n",
      "+----+-----+\n",
      "|word|count|\n",
      "+----+-----+\n",
      "+----+-----+\n",
      "\n",
      "+---------+-----+\n",
      "|     word|count|\n",
      "+---------+-----+\n",
      "|    flood|    1|\n",
      "|    flood|    1|\n",
      "| flooding|    1|\n",
      "|    flood|    1|\n",
      "|megaflood|    1|\n",
      "|    flood|    1|\n",
      "|    flood|    1|\n",
      "|  floods.|    1|\n",
      "|    flood|    1|\n",
      "|    flood|    1|\n",
      "|    flood|    1|\n",
      "|flood-hit|    1|\n",
      "|    flood|    1|\n",
      "|    flood|    1|\n",
      "|    flood|    1|\n",
      "+---------+-----+\n",
      "\n",
      "+---------+-----+\n",
      "|     word|count|\n",
      "+---------+-----+\n",
      "|malformed|    1|\n",
      "+---------+-----+\n",
      "\n",
      "+----+-----+\n",
      "|word|count|\n",
      "+----+-----+\n",
      "+----+-----+\n",
      "\n",
      "+-----------+-----+\n",
      "|       word|count|\n",
      "+-----------+-----+\n",
      "| legitimate|    1|\n",
      "|legitimate.|    1|\n",
      "| legitimate|    1|\n",
      "| legitimate|    1|\n",
      "| legitimate|    1|\n",
      "+-----------+-----+\n",
      "\n"
     ]
    }
   ],
   "source": [
    "search_terms = ['slowite','bruteforce','flood','malformed',\"'DOS'\",'legitimate']\n",
    "sum_list = []\n",
    "\n",
    "for i in range (len (search_terms)):\n",
    "    word_count = streamed_data.filter (col('word').contains(search_terms[i]))\n",
    "    word_count.show ()\n",
    "    \n",
    "    sum_count = word_count.select(sum('count')).collect()[0][0]\n",
    "    if sum_count == None:\n",
    "        sum_count=0\n",
    "        sum_list.append (sum_count)\n",
    "    else:\n",
    "        sum_list.append (sum_count)\n",
    "        \n",
    "        \n",
    "df = pd.DataFrame({\n",
    "    'words': search_terms,\n",
    "    'counts': sum_list\n",
    "    })"
   ]
  },
  {
   "cell_type": "code",
   "execution_count": 6,
   "id": "cab5e2c2",
   "metadata": {},
   "outputs": [
    {
     "data": {
      "text/html": [
       "<div>\n",
       "<style scoped>\n",
       "    .dataframe tbody tr th:only-of-type {\n",
       "        vertical-align: middle;\n",
       "    }\n",
       "\n",
       "    .dataframe tbody tr th {\n",
       "        vertical-align: top;\n",
       "    }\n",
       "\n",
       "    .dataframe thead th {\n",
       "        text-align: right;\n",
       "    }\n",
       "</style>\n",
       "<table border=\"1\" class=\"dataframe\">\n",
       "  <thead>\n",
       "    <tr style=\"text-align: right;\">\n",
       "      <th></th>\n",
       "      <th>words</th>\n",
       "      <th>counts</th>\n",
       "    </tr>\n",
       "  </thead>\n",
       "  <tbody>\n",
       "    <tr>\n",
       "      <th>2</th>\n",
       "      <td>flood</td>\n",
       "      <td>15</td>\n",
       "    </tr>\n",
       "    <tr>\n",
       "      <th>5</th>\n",
       "      <td>legitimate</td>\n",
       "      <td>5</td>\n",
       "    </tr>\n",
       "    <tr>\n",
       "      <th>3</th>\n",
       "      <td>malformed</td>\n",
       "      <td>1</td>\n",
       "    </tr>\n",
       "    <tr>\n",
       "      <th>0</th>\n",
       "      <td>slowite</td>\n",
       "      <td>0</td>\n",
       "    </tr>\n",
       "    <tr>\n",
       "      <th>1</th>\n",
       "      <td>bruteforce</td>\n",
       "      <td>0</td>\n",
       "    </tr>\n",
       "    <tr>\n",
       "      <th>4</th>\n",
       "      <td>'DOS'</td>\n",
       "      <td>0</td>\n",
       "    </tr>\n",
       "  </tbody>\n",
       "</table>\n",
       "</div>"
      ],
      "text/plain": [
       "        words  counts\n",
       "2       flood      15\n",
       "5  legitimate       5\n",
       "3   malformed       1\n",
       "0     slowite       0\n",
       "1  bruteforce       0\n",
       "4       'DOS'       0"
      ]
     },
     "execution_count": 6,
     "metadata": {},
     "output_type": "execute_result"
    }
   ],
   "source": [
    "data = {'words': search_terms, 'counts': sum_list}\n",
    "\n",
    "df = pd.DataFrame(data).sort_values('counts', ascending=False)\n",
    "df"
   ]
  },
  {
   "cell_type": "code",
   "execution_count": 7,
   "id": "eb02cd09",
   "metadata": {},
   "outputs": [
    {
     "data": {
      "image/png": "[encoded data removed]",
      "text/plain": [
       "<Figure size 432x288 with 1 Axes>"
      ]
     },
     "metadata": {
      "needs_background": "light"
     },
     "output_type": "display_data"
    }
   ],
   "source": [
    "import matplotlib.pyplot as plt\n",
    "import seaborn as sns\n",
    "from IPython import display\n",
    "\n",
    "plt.figure( figsize = (6,4))\n",
    "sns.barplot( x=\"words\", y=\"counts\", data=df)\n",
    "plt.title (f'Number of Occurrences: Stream Duration = {duration/60} min')\n",
    "plt.show()"
   ]
  },
  {
   "cell_type": "markdown",
   "id": "c002195c",
   "metadata": {},
   "source": [
    "The word **\"flood\"** was the most frequent term in 5-min Twitter feed."
   ]
  }
 ],
 "metadata": {
  "kernelspec": {
   "display_name": "Python 3",
   "language": "python",
   "name": "python3"
  },
  "language_info": {
   "codemirror_mode": {
    "name": "ipython",
    "version": 3
   },
   "file_extension": ".py",
   "mimetype": "text/x-python",
   "name": "python",
   "nbconvert_exporter": "python",
   "pygments_lexer": "ipython3",
   "version": "3.7.9 (tags/v3.7.9:13c94747c7, Aug 17 2020, 16:30:00) [MSC v.1900 64 bit (AMD64)]"
  },
  "vscode": {
   "interpreter": {
    "hash": "cbeb1089ba0a5b1db65f69713e03d5a3f751472a24c3b2bed748812cf85eef38"
   }
  }
 },
 "nbformat": 4,
 "nbformat_minor": 5
}
